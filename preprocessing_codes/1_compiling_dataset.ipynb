{
 "cells": [
  {
   "cell_type": "code",
   "execution_count": 1,
   "id": "719f0c07-3af2-42b8-a07f-dd1ee305d211",
   "metadata": {},
   "outputs": [],
   "source": [
    "import pandas as pd"
   ]
  },
  {
   "cell_type": "code",
   "execution_count": 2,
   "id": "b9231d94-f716-4d7e-800f-d08636510cda",
   "metadata": {},
   "outputs": [],
   "source": [
    "path = 'https://raw.githubusercontent.com/liandrasj/Brazilian-Occupational-Accident-Dataset/main/datasets_raw/'"
   ]
  },
  {
   "cell_type": "code",
   "execution_count": 3,
   "id": "37e3a36a-c187-4674-86c4-4915d37aba75",
   "metadata": {},
   "outputs": [],
   "source": [
    "df_2018_01 = pd.read_csv(path + '2018-07-08-09.csv', sep=';', encoding = \"ISO-8859-1\")\n",
    "df_2018_02 = pd.read_csv(path + '2018-10-11-12.csv', sep=';', encoding = \"ISO-8859-1\")"
   ]
  },
  {
   "cell_type": "code",
   "execution_count": 4,
   "id": "95534f7f-0696-4b0e-809f-0f7693b3017a",
   "metadata": {},
   "outputs": [
    {
     "name": "stdout",
     "output_type": "stream",
     "text": [
      "{'Indica Óbito Acidente'}\n",
      "{'Indica acidente'}\n"
     ]
    }
   ],
   "source": [
    "print(set(df_2018_01.columns).difference(set(df_2018_02.columns)))\n",
    "print(set(df_2018_02.columns).difference(set(df_2018_01.columns)))"
   ]
  },
  {
   "cell_type": "code",
   "execution_count": 5,
   "id": "5a2d3558-dc88-46d7-9548-1044d7143220",
   "metadata": {},
   "outputs": [],
   "source": [
    "df_2018_02.rename(columns={'Indica acidente' : 'Indica Óbito Acidente'}, inplace=True)"
   ]
  },
  {
   "cell_type": "code",
   "execution_count": 6,
   "id": "5864e91f-f93e-45d8-a5d6-28dca8abdd63",
   "metadata": {},
   "outputs": [],
   "source": [
    "df_2018 = pd.concat([df_2018_01, df_2018_02])"
   ]
  },
  {
   "cell_type": "code",
   "execution_count": 7,
   "id": "ebadd5b9-5220-4cfe-b61a-d6eb37b5af50",
   "metadata": {},
   "outputs": [],
   "source": [
    "df_2019_01 = pd.read_csv(path + '2019-01-02-03.csv', sep=';', encoding = \"ISO-8859-1\")\n",
    "df_2019_02 = pd.read_csv(path + '2019-04-05-06.csv', sep=';', encoding = \"ISO-8859-1\")\n",
    "df_2019_03 = pd.read_csv(path + '2019-07-08-09.csv', sep=';', encoding = \"ISO-8859-1\")\n",
    "df_2019_04 = pd.read_csv(path + '2019-10-11-12.csv', sep=';', encoding = \"ISO-8859-1\")"
   ]
  },
  {
   "cell_type": "code",
   "execution_count": 8,
   "id": "d475801b-0f5f-42cd-93ca-d376c24390ee",
   "metadata": {
    "tags": []
   },
   "outputs": [],
   "source": [
    "df_2019 = pd.concat([df_2019_01, df_2019_02, df_2019_03, df_2019_04])"
   ]
  },
  {
   "cell_type": "code",
   "execution_count": 9,
   "id": "400a2009-57d5-4d98-a304-c66574e1c100",
   "metadata": {},
   "outputs": [],
   "source": [
    "df_2019.rename(columns={'Indica acidente' : 'Indica Óbito Acidente'}, inplace=True)"
   ]
  },
  {
   "cell_type": "code",
   "execution_count": 10,
   "id": "6adf4be8-2cf5-4d41-becb-d1f06b7ae524",
   "metadata": {},
   "outputs": [],
   "source": [
    "df_2020_01 = pd.read_csv(path + '2020-01-02-03.csv', sep=';', encoding = \"ISO-8859-1\")\n",
    "df_2020_02 = pd.read_csv(path + '2020-04-05-06.csv', sep=';')\n",
    "df_2020_03 = pd.read_csv(path + '2020-07-08-09.csv', sep=';')\n",
    "df_2020_04 = pd.read_csv(path + '2020-10-11-12.csv', sep=';')"
   ]
  },
  {
   "cell_type": "code",
   "execution_count": 11,
   "id": "808c7a0d-4416-4a45-859b-70b308260057",
   "metadata": {},
   "outputs": [
    {
     "name": "stdout",
     "output_type": "stream",
     "text": [
      "{'Data Acidente.1', 'CNAE2.0 Empregador.1', 'CID-10.1', 'CBO.1'}\n",
      "{'Data Acidente_4', 'CID-10_2', 'CBO_1', 'CNAE2.0 Empregador_3'}\n"
     ]
    }
   ],
   "source": [
    "print(set(df_2020_01.columns).difference(set(df_2020_02.columns)))\n",
    "print(set(df_2020_02.columns).difference(set(df_2020_01.columns)))"
   ]
  },
  {
   "cell_type": "code",
   "execution_count": 12,
   "id": "bb31ac9f-0f52-48ed-ba0b-b86c1c7c626c",
   "metadata": {},
   "outputs": [],
   "source": [
    "df_2020_01.rename(columns={\n",
    "    'CBO.1' :'CBO_1', \n",
    "    'CNAE2.0 Empregador.1' : 'CNAE2.0 Empregador_3', \n",
    "    'CID-10.1' : 'CID-10_2', \n",
    "    'Data Acidente.1': 'Data Acidente_4'}, inplace=True)"
   ]
  },
  {
   "cell_type": "code",
   "execution_count": 13,
   "id": "720c45cd-5537-4129-87f7-dcdf92afc3d5",
   "metadata": {
    "tags": []
   },
   "outputs": [],
   "source": [
    "df_2020 = pd.concat([df_2020_01, df_2020_02, df_2020_03, df_2020_04])"
   ]
  },
  {
   "cell_type": "code",
   "execution_count": 14,
   "id": "5f4944bb-26ed-43dc-8857-04d7d001ea6b",
   "metadata": {},
   "outputs": [],
   "source": [
    "df_2020.rename(columns={\n",
    "    'CBO_1' : 'CBO.1', \n",
    "    'CNAE2.0 Empregador_3' : 'CNAE2.0 Empregador.1', \n",
    "    'CID-10_2' : 'CID-10.1',\n",
    "    'Indica acidente' : 'Indica Óbito Acidente',\n",
    "    'Data Acidente_4' : 'Data Acidente.1'}, inplace=True)"
   ]
  },
  {
   "cell_type": "code",
   "execution_count": 15,
   "id": "2eda28d6-865c-403e-84aa-b975a4d545bd",
   "metadata": {},
   "outputs": [],
   "source": [
    "df_2021_01 = pd.read_csv(path + '2021-01-02-03.csv', sep=';', encoding = \"ISO-8859-1\")\n",
    "df_2021_02 = pd.read_csv(path + '2021-04-05-06.csv', sep=';', encoding = \"ISO-8859-1\")\n",
    "df_2021_03 = pd.read_csv(path + '2021-07-08-09.csv', sep=';', encoding = \"ISO-8859-1\")\n",
    "df_2021_04 = pd.read_csv(path + '2021-10-11-12.csv', sep=';', encoding = \"ISO-8859-1\")"
   ]
  },
  {
   "cell_type": "code",
   "execution_count": 16,
   "id": "94bcc50d-0f3e-4580-9034-c44297dd68a8",
   "metadata": {},
   "outputs": [],
   "source": [
    "df_2021 = pd.concat([df_2021_01, df_2021_02, df_2021_03, df_2021_04])\n",
    "df_2021.rename(columns={'CBO' : 'CBO.1', 'CID-10' : 'CID-10.1'}, inplace=True)"
   ]
  },
  {
   "cell_type": "code",
   "execution_count": 17,
   "id": "238f01d3-5c9c-48d9-871c-5f0cd4d93364",
   "metadata": {},
   "outputs": [],
   "source": [
    "df_2022_01 = pd.read_csv(path + '2022-01-02-03.csv', sep=';', encoding = \"ISO-8859-1\")\n",
    "df_2022_02 = pd.read_csv(path + '2022-04-05-06.csv', sep=';', encoding = \"ISO-8859-1\")\n",
    "df_2022_03 = pd.read_csv(path + '2022-07.csv', sep=';', encoding = \"ISO-8859-1\")\n",
    "df_2022_04 = pd.read_csv(path + '2022-08.csv', sep=';', encoding = \"ISO-8859-1\")\n",
    "df_2022_05 = pd.read_csv(path + '2022-09.csv', sep=';', encoding = \"ISO-8859-1\")\n",
    "df_2022_06 = pd.read_csv(path + '2022-10.csv', sep=';', encoding = \"ISO-8859-1\")\n",
    "df_2022_07 = pd.read_csv(path + '2022-11.csv', sep=';', encoding = \"ISO-8859-1\")\n",
    "df_2022_08 = pd.read_csv(path + '2022-12.csv', sep=';', encoding = \"ISO-8859-1\")"
   ]
  },
  {
   "cell_type": "code",
   "execution_count": 18,
   "id": "c503d5da-7906-45ff-bade-cfd726f73fd8",
   "metadata": {},
   "outputs": [],
   "source": [
    "df_2022 = pd.concat([df_2022_01, df_2022_02, df_2022_03, df_2022_04, df_2022_05, df_2022_06, df_2022_07, df_2022_08])"
   ]
  },
  {
   "cell_type": "code",
   "execution_count": 19,
   "id": "4c6cd1db-1c5d-4bb5-9f3a-9a234f96df1f",
   "metadata": {},
   "outputs": [],
   "source": [
    "df_2022.rename(columns={'CBO' : 'CBO.1', 'CID-10' : 'CID-10.1'}, inplace=True)"
   ]
  },
  {
   "cell_type": "code",
   "execution_count": 20,
   "id": "e4869304-b7ab-4695-80cf-c88cf0edbc42",
   "metadata": {},
   "outputs": [],
   "source": [
    "df_2023_01 = pd.read_csv(path + '2023-01.csv', sep=';', encoding = \"ISO-8859-1\")\n",
    "df_2023_02 = pd.read_csv(path + '2023-02.csv', sep=';', encoding = \"ISO-8859-1\")\n",
    "df_2023_03 = pd.read_csv(path + '2023-03.csv', sep=';', encoding = \"ISO-8859-1\")\n",
    "df_2023_04 = pd.read_csv(path + '2023-04.csv', sep=';', encoding = \"ISO-8859-1\")\n",
    "df_2023_05 = pd.read_csv(path + '2023-05.csv', sep=';', encoding = \"ISO-8859-1\")\n",
    "df_2023_06 = pd.read_csv(path + '2023-06.csv', sep=';', encoding = \"ISO-8859-1\")\n",
    "df_2023_07 = pd.read_csv(path + '2023-07.csv', sep=';', encoding = \"ISO-8859-1\")\n",
    "df_2023_08 = pd.read_csv(path + '2023-08.csv', sep=';', encoding = \"ISO-8859-1\")\n",
    "df_2023_09 = pd.read_csv(path + '2023-09.csv', sep=';', encoding = \"ISO-8859-1\")\n",
    "df_2023_10 = pd.read_csv(path + '2023-10.csv', sep=';', encoding = \"ISO-8859-1\")\n",
    "df_2023_11 = pd.read_csv(path + '2023-11.csv', sep=';', encoding = \"ISO-8859-1\")"
   ]
  },
  {
   "cell_type": "code",
   "execution_count": 21,
   "id": "3576f2d3-7101-4074-9691-072acf06bb07",
   "metadata": {},
   "outputs": [],
   "source": [
    "df_2023_1 = pd.concat([df_2023_01, df_2023_02, df_2023_03, df_2023_04, df_2023_05])\n",
    "df_2023_1.rename(columns={'CBO' : 'CBO.1', 'CID-10' : 'CID-10.1'}, inplace=True)"
   ]
  },
  {
   "cell_type": "code",
   "execution_count": 22,
   "id": "c3aaf174-317a-4bee-baaa-a373476592f7",
   "metadata": {},
   "outputs": [],
   "source": [
    "df_2023 = pd.concat([df_2023_1, df_2023_06, df_2023_07, df_2023_08, df_2023_09, df_2023_10, df_2023_11])"
   ]
  },
  {
   "cell_type": "code",
   "execution_count": 23,
   "id": "89b4e4a7-317c-47c1-be88-ca8e3e56a1e4",
   "metadata": {},
   "outputs": [],
   "source": [
    "df_compiled = pd.concat([df_2018, df_2019, df_2020, df_2021, df_2022, df_2023])"
   ]
  },
  {
   "cell_type": "code",
   "execution_count": 24,
   "id": "eaedab3a-4d10-4b75-91b0-d5e0987be55e",
   "metadata": {},
   "outputs": [
    {
     "data": {
      "text/plain": [
       "Index(['Agente  Causador  Acidente', 'Data Acidente', 'CBO', 'CBO.1', 'CID-10',\n",
       "       'CID-10.1', 'CNAE2.0 Empregador', 'CNAE2.0 Empregador.1',\n",
       "       'Emitente CAT', 'Espécie do benefício', 'Filiação Segurado',\n",
       "       'Indica Óbito Acidente', 'Munic Empr', 'Natureza da Lesão',\n",
       "       'Origem de Cadastramento CAT', 'Parte Corpo Atingida', 'Sexo',\n",
       "       'Tipo do Acidente', 'UF  Munic.  Acidente', 'UF Munic. Empregador',\n",
       "       'Data  Afastamento', 'Data Despacho Benefício', 'Data Acidente.1',\n",
       "       'Data Nascimento', 'Data Emissão CAT', 'Data Acidente.2',\n",
       "       'CNPJ/CEI Empregador', 'Tipo de Empregador'],\n",
       "      dtype='object')"
      ]
     },
     "execution_count": 24,
     "metadata": {},
     "output_type": "execute_result"
    }
   ],
   "source": [
    "df_compiled.columns"
   ]
  },
  {
   "cell_type": "code",
   "execution_count": 25,
   "id": "e168bb10-d587-4001-9128-1a3324261dad",
   "metadata": {},
   "outputs": [
    {
     "name": "stdout",
     "output_type": "stream",
     "text": [
      "<class 'pandas.core.frame.DataFrame'>\n",
      "Int64Index: 2767166 entries, 0 to 49951\n",
      "Data columns (total 28 columns):\n",
      " #   Column                       Dtype  \n",
      "---  ------                       -----  \n",
      " 0   Agente  Causador  Acidente   object \n",
      " 1   Data Acidente                object \n",
      " 2   CBO                          float64\n",
      " 3   CBO.1                        object \n",
      " 4   CID-10                       object \n",
      " 5   CID-10.1                     object \n",
      " 6   CNAE2.0 Empregador           int64  \n",
      " 7   CNAE2.0 Empregador.1         object \n",
      " 8   Emitente CAT                 object \n",
      " 9   Espécie do benefício         object \n",
      " 10  Filiação Segurado            object \n",
      " 11  Indica Óbito Acidente        object \n",
      " 12  Munic Empr                   object \n",
      " 13  Natureza da Lesão            object \n",
      " 14  Origem de Cadastramento CAT  object \n",
      " 15  Parte Corpo Atingida         object \n",
      " 16  Sexo                         object \n",
      " 17  Tipo do Acidente             object \n",
      " 18  UF  Munic.  Acidente         object \n",
      " 19  UF Munic. Empregador         object \n",
      " 20  Data  Afastamento            object \n",
      " 21  Data Despacho Benefício      object \n",
      " 22  Data Acidente.1              object \n",
      " 23  Data Nascimento              object \n",
      " 24  Data Emissão CAT             object \n",
      " 25  Data Acidente.2              object \n",
      " 26  CNPJ/CEI Empregador          object \n",
      " 27  Tipo de Empregador           object \n",
      "dtypes: float64(1), int64(1), object(26)\n",
      "memory usage: 612.2+ MB\n"
     ]
    }
   ],
   "source": [
    "df_compiled.info()"
   ]
  },
  {
   "cell_type": "code",
   "execution_count": 26,
   "id": "72c0393f-21fa-4a50-84aa-acd09d09fc4c",
   "metadata": {},
   "outputs": [],
   "source": [
    "df_compiled.to_csv(r'raw_compiled_dataset.csv', sep=';', encoding='utf-8', index = False)"
   ]
  }
 ],
 "metadata": {
  "kernelspec": {
   "display_name": "Python 3 (ipykernel)",
   "language": "python",
   "name": "python3"
  },
  "language_info": {
   "codemirror_mode": {
    "name": "ipython",
    "version": 3
   },
   "file_extension": ".py",
   "mimetype": "text/x-python",
   "name": "python",
   "nbconvert_exporter": "python",
   "pygments_lexer": "ipython3",
   "version": "3.9.7"
  }
 },
 "nbformat": 4,
 "nbformat_minor": 5
}
