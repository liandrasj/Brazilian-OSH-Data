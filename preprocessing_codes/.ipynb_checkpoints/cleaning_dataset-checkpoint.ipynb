{
 "cells": [
  {
   "cell_type": "code",
   "execution_count": 1,
   "id": "ea40240e-80f3-4fec-88e6-f8a74525e616",
   "metadata": {},
   "outputs": [],
   "source": [
    "import pandas as pd\n",
    "import numpy as np"
   ]
  },
  {
   "cell_type": "code",
   "execution_count": 2,
   "id": "09b596da-6c9d-4927-8eb9-b6f11761b996",
   "metadata": {},
   "outputs": [],
   "source": [
    "def features_value_couts(df):\n",
    "    writer = pd.ExcelWriter('agrupamento.xlsx', engine='xlsxwriter')\n",
    "\n",
    "    for col in list(df.columns):\n",
    "        df2 = df[col].value_counts()\n",
    "        df2.to_excel(writer, sheet_name = col)\n",
    "\n",
    "    writer.save()"
   ]
  },
  {
   "cell_type": "code",
   "execution_count": 3,
   "id": "7b07b951-cb8d-43d1-9f41-f3b3b1f410ab",
   "metadata": {},
   "outputs": [],
   "source": [
    "def standardize_existing_categorical_values(df):\n",
    "    s = df.drop_duplicates().reset_index(drop=True)\n",
    "\n",
    "    size = len(s)\n",
    "    count = []\n",
    "    for i in range(0,size):\n",
    "        count.append(len(str(s.iloc[:,1:].loc[i][0])))\n",
    "\n",
    "    s['count'] = pd.Series(count)\n",
    "    s = s.sort_values([s.columns[0], 'count'], ascending = [False, False])\n",
    "    s = s.drop_duplicates(subset=s.columns[0], keep='first')\n",
    "    s = s.drop(columns=s.columns[2]).reset_index(drop=True)\n",
    "    resultado = dict(s.values)\n",
    "    return resultado"
   ]
  },
  {
   "cell_type": "code",
   "execution_count": 4,
   "id": "449d0c03-d262-4e0b-b2ce-2e98ea51a682",
   "metadata": {},
   "outputs": [],
   "source": [
    "def standardize_categorical_values_without_id (column):\n",
    "    df = column.copy()\n",
    "    lista_unica = df.dropna().drop_duplicates().sort_values().reset_index(drop =True)\n",
    "    \n",
    "    lista_substituir = []\n",
    "    \n",
    "    for i in lista_unica:\n",
    "        for j in lista_unica:\n",
    "            if (i in j) and (i !=j) :\n",
    "                lista_substituir.append([i, j])\n",
    "        \n",
    "    for i in range(len(lista_substituir)):\n",
    "        df.replace(lista_substituir[i][0], lista_substituir[i][1], inplace=True)\n",
    "    return df"
   ]
  },
  {
   "cell_type": "code",
   "execution_count": 5,
   "id": "f4ec9670-5580-4319-babf-96d78a1a10c7",
   "metadata": {},
   "outputs": [
    {
     "name": "stderr",
     "output_type": "stream",
     "text": [
      "C:\\Users\\liand\\Anaconda3\\lib\\site-packages\\IPython\\core\\interactiveshell.py:3444: DtypeWarning: Columns (1,4,20,21,24,25,26,27) have mixed types.Specify dtype option on import or set low_memory=False.\n",
      "  exec(code_obj, self.user_global_ns, self.user_ns)\n"
     ]
    }
   ],
   "source": [
    "df_raw = pd.read_csv(r'raw_compiled_dataset.csv', sep=';')"
   ]
  },
  {
   "cell_type": "code",
   "execution_count": 6,
   "id": "369e99ec-9fa1-4682-b697-d6d49599ef27",
   "metadata": {},
   "outputs": [],
   "source": [
    "df = df_raw.copy()"
   ]
  },
  {
   "cell_type": "code",
   "execution_count": 7,
   "id": "db33d450-2dca-4a42-86b6-1d66452d7015",
   "metadata": {},
   "outputs": [
    {
     "name": "stdout",
     "output_type": "stream",
     "text": [
      "<class 'pandas.core.frame.DataFrame'>\n",
      "RangeIndex: 2767166 entries, 0 to 2767165\n",
      "Data columns (total 28 columns):\n",
      " #   Column                       Non-Null Count    Dtype  \n",
      "---  ------                       --------------    -----  \n",
      " 0   Agente  Causador  Acidente   2767166 non-null  object \n",
      " 1   Data Acidente                2767166 non-null  object \n",
      " 2   CBO                          1440964 non-null  float64\n",
      " 3   CBO.1                        2767166 non-null  object \n",
      " 4   CID-10                       1440964 non-null  object \n",
      " 5   CID-10.1                     2767166 non-null  object \n",
      " 6   CNAE2.0 Empregador           2767166 non-null  int64  \n",
      " 7   CNAE2.0 Empregador.1         2767166 non-null  object \n",
      " 8   Emitente CAT                 2767166 non-null  object \n",
      " 9   Espécie do benefício         2767166 non-null  object \n",
      " 10  Filiação Segurado            2767166 non-null  object \n",
      " 11  Indica Óbito Acidente        2767166 non-null  object \n",
      " 12  Munic Empr                   2767166 non-null  object \n",
      " 13  Natureza da Lesão            2767166 non-null  object \n",
      " 14  Origem de Cadastramento CAT  2767166 non-null  object \n",
      " 15  Parte Corpo Atingida         2767166 non-null  object \n",
      " 16  Sexo                         2767166 non-null  object \n",
      " 17  Tipo do Acidente             2767166 non-null  object \n",
      " 18  UF  Munic.  Acidente         2767166 non-null  object \n",
      " 19  UF Munic. Empregador         2767166 non-null  object \n",
      " 20  Data  Afastamento            1440964 non-null  object \n",
      " 21  Data Despacho Benefício      2483969 non-null  object \n",
      " 22  Data Acidente.1              2767166 non-null  object \n",
      " 23  Data Nascimento              2766962 non-null  object \n",
      " 24  Data Emissão CAT             2483969 non-null  object \n",
      " 25  Data Acidente.2              1609399 non-null  object \n",
      " 26  CNPJ/CEI Empregador          1376154 non-null  object \n",
      " 27  Tipo de Empregador           49952 non-null    object \n",
      "dtypes: float64(1), int64(1), object(26)\n",
      "memory usage: 591.1+ MB\n"
     ]
    }
   ],
   "source": [
    "df.info(memory_usage=True,show_counts=True)"
   ]
  },
  {
   "cell_type": "code",
   "execution_count": 8,
   "id": "dbfd82c3-d7aa-4722-aeb4-1f773b350303",
   "metadata": {},
   "outputs": [],
   "source": [
    "df.rename(columns={'CNPJ/CEI Empregador' : 'CNPJ_CEI_Empregador'}, inplace= True)"
   ]
  },
  {
   "cell_type": "markdown",
   "id": "2fd75cb0-3897-4f69-83ac-947d5d32d4bc",
   "metadata": {
    "tags": []
   },
   "source": [
    "#### Removing blank spaces at the beginning and end of sentences. Also, standardizing therepresentations of missing values."
   ]
  },
  {
   "cell_type": "raw",
   "id": "95453e3a-ff23-4850-85f3-da2c5d7a2fdc",
   "metadata": {
    "tags": []
   },
   "source": [
    "features_value_couts(df)"
   ]
  },
  {
   "cell_type": "code",
   "execution_count": 9,
   "id": "fb8de812-ae01-4d05-8f0c-660c4187b7d9",
   "metadata": {},
   "outputs": [],
   "source": [
    "df.columns = df.columns.str.strip()\n",
    "cols = df.select_dtypes(object).columns\n",
    "df[cols] = df[cols].apply(lambda x: x.str.strip())\n",
    "df = df.replace(to_replace =[\"*******\", \"{ñ class}\",'{ñ Class}',\"{ñ\", \"00/00/0000\", \"Zerado\", \"0000/00\", \n",
    "                                       'Em Branco', '000000-Não Informado', 0, '0', '{ñ class', \"00.000.000.000.000\", \"Ignorado\", \"000000-Ignorado\"],\n",
    "                value = np.nan)"
   ]
  },
  {
   "cell_type": "code",
   "execution_count": 10,
   "id": "d7e4029e-8130-4250-ace9-e6e44edac0fa",
   "metadata": {},
   "outputs": [],
   "source": [
    "df['CID-10'] = df['CID-10'].where(df['CID-10'] == None , df['CID-10.1'].str.split(pat=\" \").str[0])\n",
    "df['CID-10'] = df['CID-10'].str.replace('.', '', regex= True)\n",
    "\n",
    "df['CBO'] = df['CBO'].where(df['CBO'] == None, df['CBO.1'].str.split(pat=\"-\").str[0])\n",
    "\n",
    "df['cod Munic Empr'] = pd.to_numeric(df['Munic Empr'].str.split(pat=\"-\").str[0], downcast=\"integer\")"
   ]
  },
  {
   "cell_type": "markdown",
   "id": "49ac14b4-21c4-4f26-9478-5ee62d45c5ca",
   "metadata": {},
   "source": [
    "#### Modifying columns to correct types."
   ]
  },
  {
   "cell_type": "code",
   "execution_count": 11,
   "id": "94df5200-a7a8-4c02-99b2-8c0de6b2bac0",
   "metadata": {},
   "outputs": [],
   "source": [
    "df['Data Acidente.2'].fillna(df['Data Acidente.1'].apply(lambda x: str(x) if(len(str(x))>7) else None), inplace=True)\n",
    "df['Data Acidente.2'].fillna(df['Data Acidente'].apply(lambda x: str(x) if(len(str(x))>7) else None), inplace=True)\n",
    "df['Data Acidente.2'].fillna(df['Data Acidente'].fillna(df['Data Acidente.1']), inplace=True)\n",
    "df['Data Acidente.2'] =  df['Data Acidente.2'].apply(lambda x: ('01/' + str(x)[-2:] + '/' + str(x)[:4]) \n",
    "                                                     if(len(str(x))==7 or len(str(x))==6) else x)"
   ]
  },
  {
   "cell_type": "code",
   "execution_count": 12,
   "id": "405250fb-601e-4bde-b819-05d5a5fde21a",
   "metadata": {},
   "outputs": [],
   "source": [
    "df.drop(columns=['Data Acidente', 'Data Acidente.1' ], inplace=True)"
   ]
  },
  {
   "cell_type": "code",
   "execution_count": 13,
   "id": "2b2e7917-b425-45e2-95aa-70e1c69e63b3",
   "metadata": {},
   "outputs": [],
   "source": [
    "df['Data  Afastamento'] = df['Data  Afastamento'].apply(lambda x: '01/' + str(x)[-2:] + '/'+str(x)[:4] \n",
    "                                                        if(len(str(x)) == 7 or len(str(x))==6) else x)"
   ]
  },
  {
   "cell_type": "code",
   "execution_count": 14,
   "id": "7e1ac083-1bf3-421f-b082-c5889f76444f",
   "metadata": {},
   "outputs": [],
   "source": [
    "df['Data Despacho Benefício'] = df['Data Despacho Benefício'].apply(lambda x: '01/' + str(x)[-2:] + '/'+str(x)[:4] \n",
    "                                                        if(len(str(x)) == 7 or len(str(x))==6) else x)"
   ]
  },
  {
   "cell_type": "code",
   "execution_count": 15,
   "id": "bd658202-f541-4b45-993c-26e2d9980b30",
   "metadata": {
    "tags": []
   },
   "outputs": [],
   "source": [
    "df['Data Acidente.2'] = pd.to_datetime(df['Data Acidente.2']) # Work accident date\n",
    "df['Data  Afastamento'] = pd.to_datetime(df['Data  Afastamento'], errors = 'coerce') # Date of medical leave\n",
    "df['Data Despacho Benefício'] = pd.to_datetime(df['Data Despacho Benefício']) # Benefit Dispatch Date\n",
    "df['Data Nascimento'] = pd.to_datetime(df['Data Nascimento']) # Birth date\n",
    "df['Data Emissão CAT'] = pd.to_datetime(df['Data Emissão CAT'])  # Notice issuance date"
   ]
  },
  {
   "cell_type": "raw",
   "id": "6187a55a-35c9-4756-b7f8-907669163765",
   "metadata": {},
   "source": [
    "features_value_couts(df)"
   ]
  },
  {
   "cell_type": "markdown",
   "id": "0f8fd502-adfb-4054-953e-1d7076c59ea1",
   "metadata": {},
   "source": [
    "#### Analyzing the categorical values of each attribute"
   ]
  },
  {
   "cell_type": "code",
   "execution_count": 16,
   "id": "2ff74110-7c96-47e8-b331-bd1f051b96c8",
   "metadata": {},
   "outputs": [],
   "source": [
    "df_size = df.size"
   ]
  },
  {
   "cell_type": "markdown",
   "id": "c012c8c9-7277-4d35-8c03-7c24b87312d1",
   "metadata": {},
   "source": [
    "#### Type of Employer"
   ]
  },
  {
   "cell_type": "code",
   "execution_count": 17,
   "id": "0c999dce-f12c-46a0-81fa-c18e42774952",
   "metadata": {},
   "outputs": [
    {
     "name": "stdout",
     "output_type": "stream",
     "text": [
      "Type of Employer has only one categorybeing Cnpj (National Register of Legal Entities) / Cgc (General Taxpayer Register) with  27844\n",
      "However, it was recently added, so it represents less than 1% of the dataset: 0.03726770491034001%\n"
     ]
    }
   ],
   "source": [
    "count_tp_empregador = df[\"Tipo de Empregador\"].count()\n",
    "percentage_tp_empregador  = (count_tp_empregador/df_size)*100\n",
    "print(\"Type of Employer has only one category\" \n",
    "      + \"being Cnpj (National Register of Legal Entities) / Cgc (General Taxpayer Register) with  \" + str(count_tp_empregador))\n",
    "print(\"However, it was recently added, so it represents less than 1% of the dataset: \" + str(percentage_tp_empregador) + \"%\")"
   ]
  },
  {
   "cell_type": "markdown",
   "id": "db843d57-de8a-4837-b143-a3cec9f38b06",
   "metadata": {},
   "source": [
    "#### National Register of Legal Entities"
   ]
  },
  {
   "cell_type": "code",
   "execution_count": 18,
   "id": "a2056315-1e48-483e-8524-0198d91db3a0",
   "metadata": {
    "tags": []
   },
   "outputs": [
    {
     "name": "stdout",
     "output_type": "stream",
     "text": [
      "The Cnpj (National Register of Legal Entities) attribute differentiates companies anonymously with: 184559\n",
      "Also, recently added, so it represents: 0.24702235133412737%\n"
     ]
    }
   ],
   "source": [
    "count_cnpj = len(df.CNPJ_CEI_Empregador.unique()) -1\n",
    "percentage_cnpj = (count_cnpj/df_size)*100\n",
    "print(\"The Cnpj (National Register of Legal Entities) attribute differentiates companies anonymously with: \" + str(count_cnpj))\n",
    "print(\"Also, recently added, so it represents: \" + str(percentage_cnpj) + \"%\")"
   ]
  },
  {
   "cell_type": "markdown",
   "id": "fcd548dd-d7c8-4333-b236-4e62ad60e3ed",
   "metadata": {},
   "source": [
    "#### Employers' cities"
   ]
  },
  {
   "cell_type": "code",
   "execution_count": 19,
   "id": "ed9ec3d0-1d41-4f54-9ad0-5d6e22adff5c",
   "metadata": {
    "tags": []
   },
   "outputs": [
    {
     "data": {
      "text/html": [
       "<div>\n",
       "<style scoped>\n",
       "    .dataframe tbody tr th:only-of-type {\n",
       "        vertical-align: middle;\n",
       "    }\n",
       "\n",
       "    .dataframe tbody tr th {\n",
       "        vertical-align: top;\n",
       "    }\n",
       "\n",
       "    .dataframe thead th {\n",
       "        text-align: right;\n",
       "    }\n",
       "</style>\n",
       "<table border=\"1\" class=\"dataframe\">\n",
       "  <thead>\n",
       "    <tr style=\"text-align: right;\">\n",
       "      <th></th>\n",
       "      <th>cod Munic Empr</th>\n",
       "      <th>Munic Empr</th>\n",
       "    </tr>\n",
       "  </thead>\n",
       "  <tbody>\n",
       "  </tbody>\n",
       "</table>\n",
       "</div>"
      ],
      "text/plain": [
       "Empty DataFrame\n",
       "Columns: [cod Munic Empr, Munic Empr]\n",
       "Index: []"
      ]
     },
     "execution_count": 19,
     "metadata": {},
     "output_type": "execute_result"
    }
   ],
   "source": [
    "df[['cod Munic Empr', 'Munic Empr']].loc[df['cod Munic Empr'].notnull() & df['Munic Empr'].isnull()]"
   ]
  },
  {
   "cell_type": "code",
   "execution_count": 20,
   "id": "7f155d55-316a-4f43-8be9-8313d7b75891",
   "metadata": {},
   "outputs": [
    {
     "data": {
      "text/plain": [
       "(5032,)"
      ]
     },
     "execution_count": 20,
     "metadata": {},
     "output_type": "execute_result"
    }
   ],
   "source": [
    "df['cod Munic Empr'] = df['cod Munic Empr'].fillna(0).astype('int64')\n",
    "dict_Munic_Empr = standardize_existing_categorical_values(df[['cod Munic Empr', 'Munic Empr']])\n",
    "df['Munic Empr'] = df['cod Munic Empr'].map(dict_Munic_Empr)\n",
    "df[['cod Munic Empr','Munic Empr']].value_counts().shape"
   ]
  },
  {
   "cell_type": "markdown",
   "id": "fca6f27a-e1c2-4906-bff4-f17df5d5c3a9",
   "metadata": {},
   "source": [
    "#### Brazilian Classification of Occupations"
   ]
  },
  {
   "cell_type": "code",
   "execution_count": 21,
   "id": "1e1de0e0-11d2-4218-b015-fdffd57fdf31",
   "metadata": {},
   "outputs": [
    {
     "data": {
      "text/html": [
       "<div>\n",
       "<style scoped>\n",
       "    .dataframe tbody tr th:only-of-type {\n",
       "        vertical-align: middle;\n",
       "    }\n",
       "\n",
       "    .dataframe tbody tr th {\n",
       "        vertical-align: top;\n",
       "    }\n",
       "\n",
       "    .dataframe thead th {\n",
       "        text-align: right;\n",
       "    }\n",
       "</style>\n",
       "<table border=\"1\" class=\"dataframe\">\n",
       "  <thead>\n",
       "    <tr style=\"text-align: right;\">\n",
       "      <th></th>\n",
       "      <th>CBO</th>\n",
       "      <th>CBO.1</th>\n",
       "    </tr>\n",
       "  </thead>\n",
       "  <tbody>\n",
       "  </tbody>\n",
       "</table>\n",
       "</div>"
      ],
      "text/plain": [
       "Empty DataFrame\n",
       "Columns: [CBO, CBO.1]\n",
       "Index: []"
      ]
     },
     "execution_count": 21,
     "metadata": {},
     "output_type": "execute_result"
    }
   ],
   "source": [
    "df[['CBO', 'CBO.1']].loc[(df['CBO'].notnull() & df['CBO.1'].isnull()) |  (df['CBO'].isnull() & df['CBO.1'].notnull())]"
   ]
  },
  {
   "cell_type": "code",
   "execution_count": 22,
   "id": "326091e9-a9a5-48c3-a89f-78d8bf2b0ba2",
   "metadata": {},
   "outputs": [
    {
     "data": {
      "text/plain": [
       "(2213,)"
      ]
     },
     "execution_count": 22,
     "metadata": {},
     "output_type": "execute_result"
    }
   ],
   "source": [
    "dict_cbo = standardize_existing_categorical_values(df[['CBO', 'CBO.1']])\n",
    "df['CBO.1'] = df['CBO'].map(dict_cbo)\n",
    "df['CBO'] = df['CBO'].fillna(0).astype('int64')\n",
    "df[['CBO','CBO.1']].value_counts().shape"
   ]
  },
  {
   "cell_type": "markdown",
   "id": "59ca8878-919c-4c41-8cbb-70f3de12d745",
   "metadata": {},
   "source": [
    "#### National Classification of Brazilian Economic Activities"
   ]
  },
  {
   "cell_type": "code",
   "execution_count": 23,
   "id": "39a03314-1159-46f5-9ae5-093e2a65258b",
   "metadata": {},
   "outputs": [
    {
     "data": {
      "text/plain": [
       "(668,)"
      ]
     },
     "execution_count": 23,
     "metadata": {},
     "output_type": "execute_result"
    }
   ],
   "source": [
    "df['CNAE2.0 Empregador'].fillna(0, inplace=True)\n",
    "df['CNAE2.0 Empregador'] = df['CNAE2.0 Empregador'].astype('int64')\n",
    "dict_cnae = standardize_existing_categorical_values(df[['CNAE2.0 Empregador', 'CNAE2.0 Empregador.1']])\n",
    "df['CNAE2.0 Empregador.1'] = df['CNAE2.0 Empregador'].map(dict_cnae)\n",
    "df[['CNAE2.0 Empregador','CNAE2.0 Empregador.1']].value_counts().shape"
   ]
  },
  {
   "cell_type": "markdown",
   "id": "a8e6f592-6f8d-4cce-97e4-5b3197dc8919",
   "metadata": {},
   "source": [
    "#### International Disease Classification"
   ]
  },
  {
   "cell_type": "code",
   "execution_count": 24,
   "id": "bcb021eb-0d39-415e-9c05-e7aff2c007e9",
   "metadata": {},
   "outputs": [
    {
     "data": {
      "text/html": [
       "<div>\n",
       "<style scoped>\n",
       "    .dataframe tbody tr th:only-of-type {\n",
       "        vertical-align: middle;\n",
       "    }\n",
       "\n",
       "    .dataframe tbody tr th {\n",
       "        vertical-align: top;\n",
       "    }\n",
       "\n",
       "    .dataframe thead th {\n",
       "        text-align: right;\n",
       "    }\n",
       "</style>\n",
       "<table border=\"1\" class=\"dataframe\">\n",
       "  <thead>\n",
       "    <tr style=\"text-align: right;\">\n",
       "      <th></th>\n",
       "      <th>CID-10</th>\n",
       "      <th>CID-10.1</th>\n",
       "    </tr>\n",
       "  </thead>\n",
       "  <tbody>\n",
       "  </tbody>\n",
       "</table>\n",
       "</div>"
      ],
      "text/plain": [
       "Empty DataFrame\n",
       "Columns: [CID-10, CID-10.1]\n",
       "Index: []"
      ]
     },
     "execution_count": 24,
     "metadata": {},
     "output_type": "execute_result"
    }
   ],
   "source": [
    "df[['CID-10', 'CID-10.1']].loc[(df['CID-10'].notnull() & df['CID-10.1'].isnull()) | (df['CID-10'].isnull() & df['CID-10.1'].notnull())]"
   ]
  },
  {
   "cell_type": "code",
   "execution_count": 25,
   "id": "2fe48565-bfc3-406f-a268-f5eb6b580d9b",
   "metadata": {
    "tags": []
   },
   "outputs": [
    {
     "data": {
      "text/plain": [
       "(7586,)"
      ]
     },
     "execution_count": 25,
     "metadata": {},
     "output_type": "execute_result"
    }
   ],
   "source": [
    "dict_cid = standardize_existing_categorical_values(df[['CID-10', 'CID-10.1']])\n",
    "df['CID-10.1'] = df['CID-10'].map(dict_cid)\n",
    "df[['CID-10','CID-10.1']].value_counts().shape"
   ]
  },
  {
   "cell_type": "markdown",
   "id": "0d92f789-f8ac-4575-a500-4fad4789ed74",
   "metadata": {},
   "source": [
    "#### Nature of the Injury"
   ]
  },
  {
   "cell_type": "code",
   "execution_count": 26,
   "id": "ff400bc3-3608-4953-855d-9b5057170528",
   "metadata": {},
   "outputs": [
    {
     "data": {
      "text/plain": [
       "29"
      ]
     },
     "execution_count": 26,
     "metadata": {},
     "output_type": "execute_result"
    }
   ],
   "source": [
    "df['Natureza da Lesão'] = standardize_categorical_values_without_id(df['Natureza da Lesão'])\n",
    "df['Natureza da Lesão'].value_counts().count()"
   ]
  },
  {
   "cell_type": "markdown",
   "id": "3c7c9390-16bb-46a5-9b8f-9382e4f89127",
   "metadata": {},
   "source": [
    "#### Causer agent of the accident"
   ]
  },
  {
   "cell_type": "code",
   "execution_count": 27,
   "id": "7e947d98-4215-4888-9216-612e0b393f60",
   "metadata": {},
   "outputs": [
    {
     "data": {
      "text/plain": [
       "293"
      ]
     },
     "execution_count": 27,
     "metadata": {},
     "output_type": "execute_result"
    }
   ],
   "source": [
    "df['Agente  Causador  Acidente'] = standardize_categorical_values_without_id(df['Agente  Causador  Acidente'])\n",
    "df['Agente  Causador  Acidente'].value_counts().count()"
   ]
  },
  {
   "cell_type": "markdown",
   "id": "01a99062-90aa-4fe2-9b0e-cae26a2e702f",
   "metadata": {},
   "source": [
    "#### Affected body parties"
   ]
  },
  {
   "cell_type": "code",
   "execution_count": 28,
   "id": "59616e34-38da-4b4c-b7fa-ff8117c126ee",
   "metadata": {},
   "outputs": [
    {
     "data": {
      "text/plain": [
       "39"
      ]
     },
     "execution_count": 28,
     "metadata": {},
     "output_type": "execute_result"
    }
   ],
   "source": [
    "df['Parte Corpo Atingida'] = standardize_categorical_values_without_id(df['Parte Corpo Atingida'])\n",
    "df['Parte Corpo Atingida'].value_counts().count()"
   ]
  },
  {
   "cell_type": "markdown",
   "id": "09ed9992-7345-450d-b961-7f3fd9deca47",
   "metadata": {},
   "source": [
    "#### Notification issuer"
   ]
  },
  {
   "cell_type": "code",
   "execution_count": 29,
   "id": "498ba282-7c40-439f-bd31-81f5d0266464",
   "metadata": {},
   "outputs": [
    {
     "data": {
      "text/plain": [
       "Empregador             2592930\n",
       "Segurado/Dependente      36854\n",
       "Sindicato                23067\n",
       "Médico                    7509\n",
       "Autoridade Pública        6559\n",
       "Name: Emitente CAT, dtype: int64"
      ]
     },
     "execution_count": 29,
     "metadata": {},
     "output_type": "execute_result"
    }
   ],
   "source": [
    "df['Emitente CAT'].value_counts()"
   ]
  },
  {
   "cell_type": "markdown",
   "id": "c12f82aa-b193-482a-8b8c-fe2fb617510e",
   "metadata": {},
   "source": [
    "#### Type of benefit"
   ]
  },
  {
   "cell_type": "code",
   "execution_count": 30,
   "id": "9619d1e9-b0bd-4cd8-9a0d-1b5179d89ec8",
   "metadata": {},
   "outputs": [
    {
     "data": {
      "text/plain": [
       "Pa                                         2664166\n",
       "Auxílio Doenca por Acidente do Trabalho     102597\n",
       "Pensão por Morte Acidente do Trabalho          171\n",
       "Auxílio Acidente                               113\n",
       "Aposent. Invalidez Acidente Trabalho            56\n",
       "Afastamento Até 15 Dias Acidente Trab.          55\n",
       "Auxílio Doenca Previ                             7\n",
       "Pensão por Morte Pre                             1\n",
       "Name: Espécie do benefício, dtype: int64"
      ]
     },
     "execution_count": 30,
     "metadata": {},
     "output_type": "execute_result"
    }
   ],
   "source": [
    "df['Espécie do benefício'] = standardize_categorical_values_without_id(df['Espécie do benefício'])\n",
    "df['Espécie do benefício'].value_counts()"
   ]
  },
  {
   "cell_type": "markdown",
   "id": "5c35838f-1ec3-4e01-b84d-d997c2ececca",
   "metadata": {},
   "source": [
    "#### Insured Membership"
   ]
  },
  {
   "cell_type": "code",
   "execution_count": 31,
   "id": "3160c009-057d-442e-9eb8-ca859c6e6083",
   "metadata": {},
   "outputs": [
    {
     "data": {
      "text/plain": [
       "Empregado             2661220\n",
       "Trabalhador Avulso       7117\n",
       "Segurado Especial        1214\n",
       "Name: Filiação Segurado, dtype: int64"
      ]
     },
     "execution_count": 31,
     "metadata": {},
     "output_type": "execute_result"
    }
   ],
   "source": [
    "df['Filiação Segurado'].value_counts()"
   ]
  },
  {
   "cell_type": "markdown",
   "id": "dc995515-bea9-4e48-accb-36b338970bf6",
   "metadata": {},
   "source": [
    "#### Indicates Death Accident"
   ]
  },
  {
   "cell_type": "code",
   "execution_count": 32,
   "id": "98f2b56a-8432-486c-8f6b-ff2b59f0c9c1",
   "metadata": {},
   "outputs": [
    {
     "data": {
      "text/plain": [
       "Não    2663563\n",
       "Sim      12759\n",
       "Name: Indica Óbito Acidente, dtype: int64"
      ]
     },
     "execution_count": 32,
     "metadata": {},
     "output_type": "execute_result"
    }
   ],
   "source": [
    "df['Indica Óbito Acidente'].value_counts()"
   ]
  },
  {
   "cell_type": "markdown",
   "id": "650f50a0-2932-410d-89c0-0ca62e22f6a2",
   "metadata": {},
   "source": [
    "#### Origin of CAT Registration"
   ]
  },
  {
   "cell_type": "code",
   "execution_count": 33,
   "id": "aa1b0b8a-f2ad-4eeb-9d9b-d2c86a936579",
   "metadata": {},
   "outputs": [
    {
     "data": {
      "text/plain": [
       "Internet    2676319\n",
       "Prisma            3\n",
       "Name: Origem de Cadastramento CAT, dtype: int64"
      ]
     },
     "execution_count": 33,
     "metadata": {},
     "output_type": "execute_result"
    }
   ],
   "source": [
    "df['Origem de Cadastramento CAT'].value_counts()"
   ]
  },
  {
   "cell_type": "markdown",
   "id": "728d8b7e-6ac6-4ebc-9073-51031d9147d5",
   "metadata": {},
   "source": [
    "#### Gender"
   ]
  },
  {
   "cell_type": "code",
   "execution_count": 34,
   "id": "355d7e17-0da7-414b-9cc6-56cccc7245a1",
   "metadata": {},
   "outputs": [
    {
     "data": {
      "text/plain": [
       "Masculino        1818801\n",
       "Feminino          937075\n",
       "Não Informado      11242\n",
       "Indeterminado         48\n",
       "Name: Sexo, dtype: int64"
      ]
     },
     "execution_count": 34,
     "metadata": {},
     "output_type": "execute_result"
    }
   ],
   "source": [
    "df['Sexo'].value_counts()"
   ]
  },
  {
   "cell_type": "markdown",
   "id": "5da0dc65-916d-4a69-9e6e-8db8a0973c7f",
   "metadata": {},
   "source": [
    "#### Type of accident"
   ]
  },
  {
   "cell_type": "code",
   "execution_count": 35,
   "id": "2e18386a-60f4-48d9-b979-293e109ae4d7",
   "metadata": {},
   "outputs": [
    {
     "data": {
      "text/plain": [
       "Típico     2019580\n",
       "Trajeto     565751\n",
       "Doença       91263\n",
       "Name: Tipo do Acidente, dtype: int64"
      ]
     },
     "execution_count": 35,
     "metadata": {},
     "output_type": "execute_result"
    }
   ],
   "source": [
    "df['Tipo do Acidente'].value_counts()"
   ]
  },
  {
   "cell_type": "markdown",
   "id": "1d45cce5-a8e6-4e78-b081-929b5080dc91",
   "metadata": {},
   "source": [
    "#### The state where the accident occurred"
   ]
  },
  {
   "cell_type": "code",
   "execution_count": 36,
   "id": "7d64d179-91e4-40a8-90aa-e43bf2a6b0c3",
   "metadata": {},
   "outputs": [
    {
     "data": {
      "text/plain": [
       "Maranhão            972967\n",
       "Rondônia            283656\n",
       "Roraima             216368\n",
       "Tocantins           176023\n",
       "Pará                 56544\n",
       "Acre                 40993\n",
       "Ceará                36380\n",
       "Pernambuco           15784\n",
       "Amazonas             15231\n",
       "Piauí                 9730\n",
       "Sergipe               9234\n",
       "Amapá                 8601\n",
       "Alagoas               3656\n",
       "Rio Grande Norte      3436\n",
       "Paraíba               2846\n",
       "Name: UF  Munic.  Acidente, dtype: int64"
      ]
     },
     "execution_count": 36,
     "metadata": {},
     "output_type": "execute_result"
    }
   ],
   "source": [
    "df['UF  Munic.  Acidente'].value_counts()"
   ]
  },
  {
   "cell_type": "markdown",
   "id": "9fecaad2-1578-4b9b-a763-e53d8358a643",
   "metadata": {},
   "source": [
    "#### Employers' states"
   ]
  },
  {
   "cell_type": "code",
   "execution_count": 37,
   "id": "b4293eb8-48b5-485b-92a3-3fe79811a4c1",
   "metadata": {},
   "outputs": [
    {
     "data": {
      "text/plain": [
       "São Paulo              951181\n",
       "Minas Gerais           270860\n",
       "Rio Grande do Sul      213709\n",
       "Paraná                 213494\n",
       "Santa Catarina         179472\n",
       "Rio de Janeiro         167568\n",
       "Goiás                   76093\n",
       "Bahia                   67101\n",
       "Espírito Santo          61819\n",
       "Mato Grosso             55514\n",
       "Pernambuco              53636\n",
       "Ceará                   51995\n",
       "Mato Grosso do Sul      42853\n",
       "Pará                    39186\n",
       "Distrito Federal        35560\n",
       "Amazonas                26085\n",
       "Rio Grande do Norte     18295\n",
       "Maranhão                16921\n",
       "Rondônia                15310\n",
       "Alagoas                 14985\n",
       "Paraíba                 13818\n",
       "Sergipe                  9435\n",
       "Tocantins                9030\n",
       "Piauí                    7960\n",
       "Roraima                  3276\n",
       "Acre                     3083\n",
       "Amapá                    2748\n",
       "Name: UF Munic. Empregador, dtype: int64"
      ]
     },
     "execution_count": 37,
     "metadata": {},
     "output_type": "execute_result"
    }
   ],
   "source": [
    "df['UF Munic. Empregador'].value_counts()"
   ]
  },
  {
   "cell_type": "code",
   "execution_count": 38,
   "id": "0f1066c7-cabe-4b58-8143-f78b6834131f",
   "metadata": {},
   "outputs": [
    {
     "name": "stdout",
     "output_type": "stream",
     "text": [
      "<class 'pandas.core.frame.DataFrame'>\n",
      "RangeIndex: 2767166 entries, 0 to 2767165\n",
      "Data columns (total 27 columns):\n",
      " #   Column                       Non-Null Count    Dtype         \n",
      "---  ------                       --------------    -----         \n",
      " 0   Agente  Causador  Acidente   2581413 non-null  object        \n",
      " 1   CBO                          2767166 non-null  int64         \n",
      " 2   CBO.1                        2417474 non-null  object        \n",
      " 3   CID-10                       2667195 non-null  object        \n",
      " 4   CID-10.1                     2667195 non-null  object        \n",
      " 5   CNAE2.0 Empregador           2767166 non-null  int64         \n",
      " 6   CNAE2.0 Empregador.1         2618813 non-null  object        \n",
      " 7   Emitente CAT                 2666919 non-null  object        \n",
      " 8   Espécie do benefício         2767166 non-null  object        \n",
      " 9   Filiação Segurado            2669551 non-null  object        \n",
      " 10  Indica Óbito Acidente        2676322 non-null  object        \n",
      " 11  Munic Empr                   2620328 non-null  object        \n",
      " 12  Natureza da Lesão            2672361 non-null  object        \n",
      " 13  Origem de Cadastramento CAT  2676322 non-null  object        \n",
      " 14  Parte Corpo Atingida         2674669 non-null  object        \n",
      " 15  Sexo                         2767166 non-null  object        \n",
      " 16  Tipo do Acidente             2676594 non-null  object        \n",
      " 17  UF  Munic.  Acidente         1851449 non-null  object        \n",
      " 18  UF Munic. Empregador         2620987 non-null  object        \n",
      " 19  Data  Afastamento            868496 non-null   datetime64[ns]\n",
      " 20  Data Despacho Benefício      101311 non-null   datetime64[ns]\n",
      " 21  Data Nascimento              2761317 non-null  datetime64[ns]\n",
      " 22  Data Emissão CAT             2393125 non-null  datetime64[ns]\n",
      " 23  Data Acidente.2              2767158 non-null  datetime64[ns]\n",
      " 24  CNPJ_CEI_Empregador          531059 non-null   object        \n",
      " 25  Tipo de Empregador           27844 non-null    object        \n",
      " 26  cod Munic Empr               2767166 non-null  int64         \n",
      "dtypes: datetime64[ns](5), int64(3), object(19)\n",
      "memory usage: 570.0+ MB\n"
     ]
    }
   ],
   "source": [
    "df.info(show_counts=True)"
   ]
  },
  {
   "cell_type": "code",
   "execution_count": 39,
   "id": "88cf657d-7812-465d-9023-7c5f8e2967e3",
   "metadata": {},
   "outputs": [],
   "source": [
    "df.rename(columns={'Agente  Causador  Acidente' : 'agente_causador',\n",
    "                   'CBO': 'cd_cbo',\n",
    "                   'CBO.1' : 'cbo_descricao',\n",
    "                   'CID-10' : 'cd_cid',\n",
    "                   'CID-10.1' : 'cid_descricao',\n",
    "                   'CNAE2.0 Empregador' : 'cd_cnae',\n",
    "                   'CNAE2.0 Empregador.1' : 'cnae_descricao',\n",
    "                   'Emitente CAT' : 'emitente',\n",
    "                   'Espécie do benefício' : 'especie_beneficio',\n",
    "                   'Filiação Segurado' : 'filiacao_segurado',\n",
    "                   'Indica Óbito Acidente' : 'indica_obito',\n",
    "                   'Munic Empr' : 'municipio_empregador',\n",
    "                   'Natureza da Lesão' : 'natureza_lesao',\n",
    "                   'Origem de Cadastramento CAT' : 'origem_Cadastramento',\n",
    "                   'Parte Corpo Atingida' : 'parte_corpo_atingida',\n",
    "                   'Sexo' : 'sexo',\n",
    "                   'Tipo do Acidente' : 'tp_acidente',\n",
    "                   'UF  Munic.  Acidente' : 'uf_acidente',\n",
    "                   'UF Munic. Empregador' : 'uf_empregador',\n",
    "                   'Data  Afastamento' : 'dt_afastamento',\n",
    "                   'Data Despacho Benefício' : 'dt_despacho_beneficio',\n",
    "                   'Data Nascimento' : 'dt_nascimento',\n",
    "                   'Data Emissão CAT' : 'dt_emissao',\n",
    "                   'Data Acidente.2' : 'dt_acidente',\n",
    "                   'CNPJ_CEI_Empregador' : 'cnpj_empregador',\n",
    "                   'Tipo de Empregador' : 'tp_empregador',\n",
    "                   'cod Munic Empr' : 'cd_municipio_empregador'\n",
    "                  }, inplace=True\n",
    "         )"
   ]
  },
  {
   "cell_type": "code",
   "execution_count": 40,
   "id": "3fb9f060-6db3-4006-83a2-4978c0538538",
   "metadata": {},
   "outputs": [
    {
     "name": "stdout",
     "output_type": "stream",
     "text": [
      "<class 'pandas.core.frame.DataFrame'>\n",
      "RangeIndex: 2767166 entries, 0 to 2767165\n",
      "Data columns (total 27 columns):\n",
      " #   Column                   Non-Null Count    Dtype         \n",
      "---  ------                   --------------    -----         \n",
      " 0   agente_causador          2581413 non-null  object        \n",
      " 1   cd_cbo                   2767166 non-null  int64         \n",
      " 2   cbo_descricao            2417474 non-null  object        \n",
      " 3   cd_cid                   2667195 non-null  object        \n",
      " 4   cid_descricao            2667195 non-null  object        \n",
      " 5   cd_cane                  2767166 non-null  int64         \n",
      " 6   cnae_descricao           2618813 non-null  object        \n",
      " 7   emitente                 2666919 non-null  object        \n",
      " 8   especie_beneficio        2767166 non-null  object        \n",
      " 9   filiacao_segurado        2669551 non-null  object        \n",
      " 10  indica_obito             2676322 non-null  object        \n",
      " 11  municipio_empregador     2620328 non-null  object        \n",
      " 12  natureza_lesao           2672361 non-null  object        \n",
      " 13  origem_Cadastramento     2676322 non-null  object        \n",
      " 14  parte_corpo_atingida     2674669 non-null  object        \n",
      " 15  sexo                     2767166 non-null  object        \n",
      " 16  tp_acidente              2676594 non-null  object        \n",
      " 17  uf_acidente              1851449 non-null  object        \n",
      " 18  uf_empregador            2620987 non-null  object        \n",
      " 19  dt_afastamento           868496 non-null   datetime64[ns]\n",
      " 20  dt_despacho_beneficio    101311 non-null   datetime64[ns]\n",
      " 21  dt_nascimento            2761317 non-null  datetime64[ns]\n",
      " 22  dt_emissao               2393125 non-null  datetime64[ns]\n",
      " 23  dt_acidente              2767158 non-null  datetime64[ns]\n",
      " 24  cnpj_empregador          531059 non-null   object        \n",
      " 25  tp_empregador            27844 non-null    object        \n",
      " 26  cd_municipio_empregador  2767166 non-null  int64         \n",
      "dtypes: datetime64[ns](5), int64(3), object(19)\n",
      "memory usage: 570.0+ MB\n"
     ]
    }
   ],
   "source": [
    "df.info(show_counts=True)"
   ]
  },
  {
   "cell_type": "code",
   "execution_count": 41,
   "id": "b488c44b-7a26-4e22-91c8-bdd297770a53",
   "metadata": {},
   "outputs": [],
   "source": [
    "df.to_csv(r'null_treated_dataset.csv', sep=';', encoding='utf-8', index = False)"
   ]
  }
 ],
 "metadata": {
  "kernelspec": {
   "display_name": "Python 3 (ipykernel)",
   "language": "python",
   "name": "python3"
  },
  "language_info": {
   "codemirror_mode": {
    "name": "ipython",
    "version": 3
   },
   "file_extension": ".py",
   "mimetype": "text/x-python",
   "name": "python",
   "nbconvert_exporter": "python",
   "pygments_lexer": "ipython3",
   "version": "3.9.7"
  }
 },
 "nbformat": 4,
 "nbformat_minor": 5
}
