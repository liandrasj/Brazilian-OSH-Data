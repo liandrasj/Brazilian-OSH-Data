{
 "cells": [
  {
   "cell_type": "code",
   "execution_count": 1,
   "id": "28b4b70e-1729-49d7-b90b-377fbf2dd19f",
   "metadata": {},
   "outputs": [],
   "source": [
    "import pandas as pd\n",
    "import numpy as np\n",
    "from datetime import timedelta\n",
    "import seaborn as sns"
   ]
  },
  {
   "cell_type": "code",
   "execution_count": 2,
   "id": "1b1d3459-5323-4a60-b9b5-d83c7a51385c",
   "metadata": {},
   "outputs": [],
   "source": [
    "def features_value_couts(df):\n",
    "    writer = pd.ExcelWriter('agrupamento.xlsx', engine='xlsxwriter')\n",
    "\n",
    "    for col in list(df.columns):\n",
    "        df2 = df[col].value_counts()\n",
    "        df2.to_excel(writer, sheet_name = col)\n",
    "\n",
    "    writer.save()"
   ]
  },
  {
   "cell_type": "markdown",
   "id": "34f4bf7a-fea2-4a5d-98ae-5ce3e1ab731d",
   "metadata": {
    "tags": []
   },
   "source": [
    "### Filtering land transport companies by subgroup numbers"
   ]
  },
  {
   "cell_type": "code",
   "execution_count": 3,
   "id": "33bb6305-a8c7-46ce-beef-44cc5a7263cd",
   "metadata": {},
   "outputs": [
    {
     "name": "stderr",
     "output_type": "stream",
     "text": [
      "C:\\Users\\liand\\Anaconda3\\lib\\site-packages\\IPython\\core\\interactiveshell.py:3444: DtypeWarning: Columns (19,20,22,24,25) have mixed types.Specify dtype option on import or set low_memory=False.\n",
      "  exec(code_obj, self.user_global_ns, self.user_ns)\n"
     ]
    },
    {
     "data": {
      "text/plain": [
       "(2767166, 27)"
      ]
     },
     "execution_count": 3,
     "metadata": {},
     "output_type": "execute_result"
    }
   ],
   "source": [
    "whole_data = pd.read_csv(r'preprocessing_codes/null_treated_dataset.csv', sep=\";\")\n",
    "whole_data.shape"
   ]
  },
  {
   "cell_type": "code",
   "execution_count": 4,
   "id": "8a91bd5f-97f0-42d5-8312-2f91e39768e1",
   "metadata": {},
   "outputs": [
    {
     "data": {
      "text/plain": [
       "(102384, 27)"
      ]
     },
     "execution_count": 4,
     "metadata": {},
     "output_type": "execute_result"
    }
   ],
   "source": [
    "df_transporte = whole_data.loc[whole_data.cd_cnae.isin([4940,4911,4912,4930,4924,4922,4921,4929,4923,4950])].copy()\n",
    "df_transporte.shape"
   ]
  },
  {
   "cell_type": "code",
   "execution_count": 5,
   "id": "a15b5209-c701-46a2-9073-cb0cc70ad288",
   "metadata": {},
   "outputs": [],
   "source": [
    "df_transporte.dt_acidente = pd.to_datetime(df_transporte.dt_acidente)\n",
    "df_transporte.dt_nascimento = pd.to_datetime(df_transporte.dt_nascimento)"
   ]
  },
  {
   "cell_type": "code",
   "execution_count": 6,
   "id": "3f8d8e02-2a59-4337-9d09-c561e714bd04",
   "metadata": {},
   "outputs": [
    {
     "data": {
      "text/html": [
       "<style type=\"text/css\">\n",
       "</style>\n",
       "<table id=\"T_e49c6_\">\n",
       "  <thead>\n",
       "    <tr>\n",
       "      <th class=\"blank level0\" >&nbsp;</th>\n",
       "      <th class=\"col_heading level0 col0\" >qtd</th>\n",
       "      <th class=\"col_heading level0 col1\" >percentual</th>\n",
       "    </tr>\n",
       "  </thead>\n",
       "  <tbody>\n",
       "    <tr>\n",
       "      <th id=\"T_e49c6_level0_row0\" class=\"row_heading level0 row0\" >dt_despacho_beneficio</th>\n",
       "      <td id=\"T_e49c6_row0_col0\" class=\"data row0 col0\" >101,728</td>\n",
       "      <td id=\"T_e49c6_row0_col1\" class=\"data row0 col1\" >99.36%</td>\n",
       "    </tr>\n",
       "    <tr>\n",
       "      <th id=\"T_e49c6_level0_row1\" class=\"row_heading level0 row1\" >tp_empregador</th>\n",
       "      <td id=\"T_e49c6_row1_col0\" class=\"data row1 col0\" >101,249</td>\n",
       "      <td id=\"T_e49c6_row1_col1\" class=\"data row1 col1\" >98.89%</td>\n",
       "    </tr>\n",
       "    <tr>\n",
       "      <th id=\"T_e49c6_level0_row2\" class=\"row_heading level0 row2\" >cnpj_empregador</th>\n",
       "      <td id=\"T_e49c6_row2_col0\" class=\"data row2 col0\" >83,198</td>\n",
       "      <td id=\"T_e49c6_row2_col1\" class=\"data row2 col1\" >81.26%</td>\n",
       "    </tr>\n",
       "    <tr>\n",
       "      <th id=\"T_e49c6_level0_row3\" class=\"row_heading level0 row3\" >dt_afastamento</th>\n",
       "      <td id=\"T_e49c6_row3_col0\" class=\"data row3 col0\" >64,118</td>\n",
       "      <td id=\"T_e49c6_row3_col1\" class=\"data row3 col1\" >62.63%</td>\n",
       "    </tr>\n",
       "    <tr>\n",
       "      <th id=\"T_e49c6_level0_row4\" class=\"row_heading level0 row4\" >uf_acidente</th>\n",
       "      <td id=\"T_e49c6_row4_col0\" class=\"data row4 col0\" >31,325</td>\n",
       "      <td id=\"T_e49c6_row4_col1\" class=\"data row4 col1\" >30.60%</td>\n",
       "    </tr>\n",
       "    <tr>\n",
       "      <th id=\"T_e49c6_level0_row5\" class=\"row_heading level0 row5\" >dt_emissao</th>\n",
       "      <td id=\"T_e49c6_row5_col0\" class=\"data row5 col0\" >10,947</td>\n",
       "      <td id=\"T_e49c6_row5_col1\" class=\"data row5 col1\" >10.69%</td>\n",
       "    </tr>\n",
       "    <tr>\n",
       "      <th id=\"T_e49c6_level0_row6\" class=\"row_heading level0 row6\" >cbo_descricao</th>\n",
       "      <td id=\"T_e49c6_row6_col0\" class=\"data row6 col0\" >5,445</td>\n",
       "      <td id=\"T_e49c6_row6_col1\" class=\"data row6 col1\" >5.32%</td>\n",
       "    </tr>\n",
       "    <tr>\n",
       "      <th id=\"T_e49c6_level0_row7\" class=\"row_heading level0 row7\" >cid_descricao</th>\n",
       "      <td id=\"T_e49c6_row7_col0\" class=\"data row7 col0\" >4,307</td>\n",
       "      <td id=\"T_e49c6_row7_col1\" class=\"data row7 col1\" >4.21%</td>\n",
       "    </tr>\n",
       "    <tr>\n",
       "      <th id=\"T_e49c6_level0_row8\" class=\"row_heading level0 row8\" >cd_cid</th>\n",
       "      <td id=\"T_e49c6_row8_col0\" class=\"data row8 col0\" >4,307</td>\n",
       "      <td id=\"T_e49c6_row8_col1\" class=\"data row8 col1\" >4.21%</td>\n",
       "    </tr>\n",
       "    <tr>\n",
       "      <th id=\"T_e49c6_level0_row9\" class=\"row_heading level0 row9\" >agente_causador</th>\n",
       "      <td id=\"T_e49c6_row9_col0\" class=\"data row9 col0\" >927</td>\n",
       "      <td id=\"T_e49c6_row9_col1\" class=\"data row9 col1\" >0.91%</td>\n",
       "    </tr>\n",
       "    <tr>\n",
       "      <th id=\"T_e49c6_level0_row10\" class=\"row_heading level0 row10\" >dt_nascimento</th>\n",
       "      <td id=\"T_e49c6_row10_col0\" class=\"data row10 col0\" >212</td>\n",
       "      <td id=\"T_e49c6_row10_col1\" class=\"data row10 col1\" >0.21%</td>\n",
       "    </tr>\n",
       "    <tr>\n",
       "      <th id=\"T_e49c6_level0_row11\" class=\"row_heading level0 row11\" >natureza_lesao</th>\n",
       "      <td id=\"T_e49c6_row11_col0\" class=\"data row11 col0\" >208</td>\n",
       "      <td id=\"T_e49c6_row11_col1\" class=\"data row11 col1\" >0.20%</td>\n",
       "    </tr>\n",
       "    <tr>\n",
       "      <th id=\"T_e49c6_level0_row12\" class=\"row_heading level0 row12\" >municipio_empregador</th>\n",
       "      <td id=\"T_e49c6_row12_col0\" class=\"data row12 col0\" >143</td>\n",
       "      <td id=\"T_e49c6_row12_col1\" class=\"data row12 col1\" >0.14%</td>\n",
       "    </tr>\n",
       "    <tr>\n",
       "      <th id=\"T_e49c6_level0_row13\" class=\"row_heading level0 row13\" >uf_empregador</th>\n",
       "      <td id=\"T_e49c6_row13_col0\" class=\"data row13 col0\" >126</td>\n",
       "      <td id=\"T_e49c6_row13_col1\" class=\"data row13 col1\" >0.12%</td>\n",
       "    </tr>\n",
       "    <tr>\n",
       "      <th id=\"T_e49c6_level0_row14\" class=\"row_heading level0 row14\" >emitente</th>\n",
       "      <td id=\"T_e49c6_row14_col0\" class=\"data row14 col0\" >82</td>\n",
       "      <td id=\"T_e49c6_row14_col1\" class=\"data row14 col1\" >0.08%</td>\n",
       "    </tr>\n",
       "    <tr>\n",
       "      <th id=\"T_e49c6_level0_row15\" class=\"row_heading level0 row15\" >parte_corpo_atingida</th>\n",
       "      <td id=\"T_e49c6_row15_col0\" class=\"data row15 col0\" >75</td>\n",
       "      <td id=\"T_e49c6_row15_col1\" class=\"data row15 col1\" >0.07%</td>\n",
       "    </tr>\n",
       "    <tr>\n",
       "      <th id=\"T_e49c6_level0_row16\" class=\"row_heading level0 row16\" >filiacao_segurado</th>\n",
       "      <td id=\"T_e49c6_row16_col0\" class=\"data row16 col0\" >3</td>\n",
       "      <td id=\"T_e49c6_row16_col1\" class=\"data row16 col1\" >0.00%</td>\n",
       "    </tr>\n",
       "    <tr>\n",
       "      <th id=\"T_e49c6_level0_row17\" class=\"row_heading level0 row17\" >dt_acidente</th>\n",
       "      <td id=\"T_e49c6_row17_col0\" class=\"data row17 col0\" >1</td>\n",
       "      <td id=\"T_e49c6_row17_col1\" class=\"data row17 col1\" >0.00%</td>\n",
       "    </tr>\n",
       "    <tr>\n",
       "      <th id=\"T_e49c6_level0_row18\" class=\"row_heading level0 row18\" >tp_acidente</th>\n",
       "      <td id=\"T_e49c6_row18_col0\" class=\"data row18 col0\" >1</td>\n",
       "      <td id=\"T_e49c6_row18_col1\" class=\"data row18 col1\" >0.00%</td>\n",
       "    </tr>\n",
       "    <tr>\n",
       "      <th id=\"T_e49c6_level0_row19\" class=\"row_heading level0 row19\" >sexo</th>\n",
       "      <td id=\"T_e49c6_row19_col0\" class=\"data row19 col0\" >0</td>\n",
       "      <td id=\"T_e49c6_row19_col1\" class=\"data row19 col1\" >0.00%</td>\n",
       "    </tr>\n",
       "    <tr>\n",
       "      <th id=\"T_e49c6_level0_row20\" class=\"row_heading level0 row20\" >cd_cnae</th>\n",
       "      <td id=\"T_e49c6_row20_col0\" class=\"data row20 col0\" >0</td>\n",
       "      <td id=\"T_e49c6_row20_col1\" class=\"data row20 col1\" >0.00%</td>\n",
       "    </tr>\n",
       "    <tr>\n",
       "      <th id=\"T_e49c6_level0_row21\" class=\"row_heading level0 row21\" >cd_cbo</th>\n",
       "      <td id=\"T_e49c6_row21_col0\" class=\"data row21 col0\" >0</td>\n",
       "      <td id=\"T_e49c6_row21_col1\" class=\"data row21 col1\" >0.00%</td>\n",
       "    </tr>\n",
       "    <tr>\n",
       "      <th id=\"T_e49c6_level0_row22\" class=\"row_heading level0 row22\" >cd_municipio_empregador</th>\n",
       "      <td id=\"T_e49c6_row22_col0\" class=\"data row22 col0\" >0</td>\n",
       "      <td id=\"T_e49c6_row22_col1\" class=\"data row22 col1\" >0.00%</td>\n",
       "    </tr>\n",
       "    <tr>\n",
       "      <th id=\"T_e49c6_level0_row23\" class=\"row_heading level0 row23\" >cnae_descricao</th>\n",
       "      <td id=\"T_e49c6_row23_col0\" class=\"data row23 col0\" >0</td>\n",
       "      <td id=\"T_e49c6_row23_col1\" class=\"data row23 col1\" >0.00%</td>\n",
       "    </tr>\n",
       "    <tr>\n",
       "      <th id=\"T_e49c6_level0_row24\" class=\"row_heading level0 row24\" >especie_beneficio</th>\n",
       "      <td id=\"T_e49c6_row24_col0\" class=\"data row24 col0\" >0</td>\n",
       "      <td id=\"T_e49c6_row24_col1\" class=\"data row24 col1\" >0.00%</td>\n",
       "    </tr>\n",
       "    <tr>\n",
       "      <th id=\"T_e49c6_level0_row25\" class=\"row_heading level0 row25\" >indica_obito</th>\n",
       "      <td id=\"T_e49c6_row25_col0\" class=\"data row25 col0\" >0</td>\n",
       "      <td id=\"T_e49c6_row25_col1\" class=\"data row25 col1\" >0.00%</td>\n",
       "    </tr>\n",
       "    <tr>\n",
       "      <th id=\"T_e49c6_level0_row26\" class=\"row_heading level0 row26\" >origem_Cadastramento</th>\n",
       "      <td id=\"T_e49c6_row26_col0\" class=\"data row26 col0\" >0</td>\n",
       "      <td id=\"T_e49c6_row26_col1\" class=\"data row26 col1\" >0.00%</td>\n",
       "    </tr>\n",
       "  </tbody>\n",
       "</table>\n"
      ],
      "text/plain": [
       "<pandas.io.formats.style.Styler at 0x1df1b5dca90>"
      ]
     },
     "execution_count": 6,
     "metadata": {},
     "output_type": "execute_result"
    }
   ],
   "source": [
    "qtd_nulos = pd.DataFrame()\n",
    "qtd_nulos['qtd'] = df_transporte.isna().sum().sort_values().copy()\n",
    "qtd_nulos['percentual'] = qtd_nulos['qtd'] / len(df_transporte) * 100\n",
    "qtd_nulos.sort_values(by='qtd', ascending = False).style.format({'qtd' : '{:,}','percentual' : '{:.2f}%'})"
   ]
  },
  {
   "cell_type": "code",
   "execution_count": 7,
   "id": "698b0d4f-9840-4fd3-812b-9abee6c25921",
   "metadata": {},
   "outputs": [
    {
     "name": "stdout",
     "output_type": "stream",
     "text": [
      "(91614, 20)\n"
     ]
    }
   ],
   "source": [
    "df = df_transporte.drop(columns=['dt_despacho_beneficio','tp_empregador','cnpj_empregador','dt_afastamento','uf_acidente','dt_emissao',\n",
    "                                           'origem_Cadastramento'], axis=1).copy()\n",
    "df.dropna(inplace=True)\n",
    "print(df.shape)"
   ]
  },
  {
   "cell_type": "code",
   "execution_count": 8,
   "id": "473127f8-481c-4004-8bf1-1b7676adc499",
   "metadata": {},
   "outputs": [
    {
     "name": "stdout",
     "output_type": "stream",
     "text": [
      "<class 'pandas.core.frame.DataFrame'>\n",
      "Int64Index: 91614 entries, 3 to 2767160\n",
      "Data columns (total 20 columns):\n",
      " #   Column                   Non-Null Count  Dtype         \n",
      "---  ------                   --------------  -----         \n",
      " 0   agente_causador          91614 non-null  object        \n",
      " 1   cd_cbo                   91614 non-null  int64         \n",
      " 2   cbo_descricao            91614 non-null  object        \n",
      " 3   cd_cid                   91614 non-null  object        \n",
      " 4   cid_descricao            91614 non-null  object        \n",
      " 5   cd_cnae                  91614 non-null  int64         \n",
      " 6   cnae_descricao           91614 non-null  object        \n",
      " 7   emitente                 91614 non-null  object        \n",
      " 8   especie_beneficio        91614 non-null  object        \n",
      " 9   filiacao_segurado        91614 non-null  object        \n",
      " 10  indica_obito             91614 non-null  object        \n",
      " 11  municipio_empregador     91614 non-null  object        \n",
      " 12  natureza_lesao           91614 non-null  object        \n",
      " 13  parte_corpo_atingida     91614 non-null  object        \n",
      " 14  sexo                     91614 non-null  object        \n",
      " 15  tp_acidente              91614 non-null  object        \n",
      " 16  uf_empregador            91614 non-null  object        \n",
      " 17  dt_nascimento            91614 non-null  datetime64[ns]\n",
      " 18  dt_acidente              91614 non-null  datetime64[ns]\n",
      " 19  cd_municipio_empregador  91614 non-null  int64         \n",
      "dtypes: datetime64[ns](2), int64(3), object(15)\n",
      "memory usage: 14.7+ MB\n"
     ]
    }
   ],
   "source": [
    "df.info(show_counts=True)"
   ]
  },
  {
   "cell_type": "markdown",
   "id": "a88efee6-fc7c-47ae-a0b1-17f319cdf8bd",
   "metadata": {
    "tags": []
   },
   "source": [
    "### Number of categories by attributes"
   ]
  },
  {
   "cell_type": "code",
   "execution_count": 9,
   "id": "5fae8e8e-8059-4dc7-aed6-e100e088d98b",
   "metadata": {},
   "outputs": [
    {
     "data": {
      "text/html": [
       "<style type=\"text/css\">\n",
       "</style>\n",
       "<table id=\"T_f8a28_\">\n",
       "  <thead>\n",
       "    <tr>\n",
       "      <th class=\"blank level0\" >&nbsp;</th>\n",
       "      <th class=\"col_heading level0 col0\" >Atributos</th>\n",
       "      <th class=\"col_heading level0 col1\" >nu_categorias</th>\n",
       "    </tr>\n",
       "  </thead>\n",
       "  <tbody>\n",
       "    <tr>\n",
       "      <th id=\"T_f8a28_level0_row0\" class=\"row_heading level0 row0\" >0</th>\n",
       "      <td id=\"T_f8a28_row0_col0\" class=\"data row0 col0\" >dt_nascimento</td>\n",
       "      <td id=\"T_f8a28_row0_col1\" class=\"data row0 col1\" >17,521</td>\n",
       "    </tr>\n",
       "    <tr>\n",
       "      <th id=\"T_f8a28_level0_row1\" class=\"row_heading level0 row1\" >1</th>\n",
       "      <td id=\"T_f8a28_row1_col0\" class=\"data row1 col0\" >cd_cid</td>\n",
       "      <td id=\"T_f8a28_row1_col1\" class=\"data row1 col1\" >2,599</td>\n",
       "    </tr>\n",
       "    <tr>\n",
       "      <th id=\"T_f8a28_level0_row2\" class=\"row_heading level0 row2\" >2</th>\n",
       "      <td id=\"T_f8a28_row2_col0\" class=\"data row2 col0\" >cid_descricao</td>\n",
       "      <td id=\"T_f8a28_row2_col1\" class=\"data row2 col1\" >2,599</td>\n",
       "    </tr>\n",
       "    <tr>\n",
       "      <th id=\"T_f8a28_level0_row3\" class=\"row_heading level0 row3\" >3</th>\n",
       "      <td id=\"T_f8a28_row3_col0\" class=\"data row3 col0\" >cd_municipio_empregador</td>\n",
       "      <td id=\"T_f8a28_row3_col1\" class=\"data row3 col1\" >2,112</td>\n",
       "    </tr>\n",
       "    <tr>\n",
       "      <th id=\"T_f8a28_level0_row4\" class=\"row_heading level0 row4\" >4</th>\n",
       "      <td id=\"T_f8a28_row4_col0\" class=\"data row4 col0\" >municipio_empregador</td>\n",
       "      <td id=\"T_f8a28_row4_col1\" class=\"data row4 col1\" >2,112</td>\n",
       "    </tr>\n",
       "    <tr>\n",
       "      <th id=\"T_f8a28_level0_row5\" class=\"row_heading level0 row5\" >5</th>\n",
       "      <td id=\"T_f8a28_row5_col0\" class=\"data row5 col0\" >dt_acidente</td>\n",
       "      <td id=\"T_f8a28_row5_col1\" class=\"data row5 col1\" >2,054</td>\n",
       "    </tr>\n",
       "    <tr>\n",
       "      <th id=\"T_f8a28_level0_row6\" class=\"row_heading level0 row6\" >6</th>\n",
       "      <td id=\"T_f8a28_row6_col0\" class=\"data row6 col0\" >cd_cbo</td>\n",
       "      <td id=\"T_f8a28_row6_col1\" class=\"data row6 col1\" >808</td>\n",
       "    </tr>\n",
       "    <tr>\n",
       "      <th id=\"T_f8a28_level0_row7\" class=\"row_heading level0 row7\" >7</th>\n",
       "      <td id=\"T_f8a28_row7_col0\" class=\"data row7 col0\" >cbo_descricao</td>\n",
       "      <td id=\"T_f8a28_row7_col1\" class=\"data row7 col1\" >808</td>\n",
       "    </tr>\n",
       "    <tr>\n",
       "      <th id=\"T_f8a28_level0_row8\" class=\"row_heading level0 row8\" >8</th>\n",
       "      <td id=\"T_f8a28_row8_col0\" class=\"data row8 col0\" >agente_causador</td>\n",
       "      <td id=\"T_f8a28_row8_col1\" class=\"data row8 col1\" >281</td>\n",
       "    </tr>\n",
       "    <tr>\n",
       "      <th id=\"T_f8a28_level0_row9\" class=\"row_heading level0 row9\" >9</th>\n",
       "      <td id=\"T_f8a28_row9_col0\" class=\"data row9 col0\" >parte_corpo_atingida</td>\n",
       "      <td id=\"T_f8a28_row9_col1\" class=\"data row9 col1\" >39</td>\n",
       "    </tr>\n",
       "    <tr>\n",
       "      <th id=\"T_f8a28_level0_row10\" class=\"row_heading level0 row10\" >10</th>\n",
       "      <td id=\"T_f8a28_row10_col0\" class=\"data row10 col0\" >natureza_lesao</td>\n",
       "      <td id=\"T_f8a28_row10_col1\" class=\"data row10 col1\" >29</td>\n",
       "    </tr>\n",
       "    <tr>\n",
       "      <th id=\"T_f8a28_level0_row11\" class=\"row_heading level0 row11\" >11</th>\n",
       "      <td id=\"T_f8a28_row11_col0\" class=\"data row11 col0\" >uf_empregador</td>\n",
       "      <td id=\"T_f8a28_row11_col1\" class=\"data row11 col1\" >27</td>\n",
       "    </tr>\n",
       "    <tr>\n",
       "      <th id=\"T_f8a28_level0_row12\" class=\"row_heading level0 row12\" >12</th>\n",
       "      <td id=\"T_f8a28_row12_col0\" class=\"data row12 col0\" >cd_cnae</td>\n",
       "      <td id=\"T_f8a28_row12_col1\" class=\"data row12 col1\" >10</td>\n",
       "    </tr>\n",
       "    <tr>\n",
       "      <th id=\"T_f8a28_level0_row13\" class=\"row_heading level0 row13\" >13</th>\n",
       "      <td id=\"T_f8a28_row13_col0\" class=\"data row13 col0\" >cnae_descricao</td>\n",
       "      <td id=\"T_f8a28_row13_col1\" class=\"data row13 col1\" >8</td>\n",
       "    </tr>\n",
       "    <tr>\n",
       "      <th id=\"T_f8a28_level0_row14\" class=\"row_heading level0 row14\" >14</th>\n",
       "      <td id=\"T_f8a28_row14_col0\" class=\"data row14 col0\" >especie_beneficio</td>\n",
       "      <td id=\"T_f8a28_row14_col1\" class=\"data row14 col1\" >5</td>\n",
       "    </tr>\n",
       "    <tr>\n",
       "      <th id=\"T_f8a28_level0_row15\" class=\"row_heading level0 row15\" >15</th>\n",
       "      <td id=\"T_f8a28_row15_col0\" class=\"data row15 col0\" >emitente</td>\n",
       "      <td id=\"T_f8a28_row15_col1\" class=\"data row15 col1\" >5</td>\n",
       "    </tr>\n",
       "    <tr>\n",
       "      <th id=\"T_f8a28_level0_row16\" class=\"row_heading level0 row16\" >16</th>\n",
       "      <td id=\"T_f8a28_row16_col0\" class=\"data row16 col0\" >sexo</td>\n",
       "      <td id=\"T_f8a28_row16_col1\" class=\"data row16 col1\" >3</td>\n",
       "    </tr>\n",
       "    <tr>\n",
       "      <th id=\"T_f8a28_level0_row17\" class=\"row_heading level0 row17\" >17</th>\n",
       "      <td id=\"T_f8a28_row17_col0\" class=\"data row17 col0\" >tp_acidente</td>\n",
       "      <td id=\"T_f8a28_row17_col1\" class=\"data row17 col1\" >3</td>\n",
       "    </tr>\n",
       "    <tr>\n",
       "      <th id=\"T_f8a28_level0_row18\" class=\"row_heading level0 row18\" >18</th>\n",
       "      <td id=\"T_f8a28_row18_col0\" class=\"data row18 col0\" >filiacao_segurado</td>\n",
       "      <td id=\"T_f8a28_row18_col1\" class=\"data row18 col1\" >2</td>\n",
       "    </tr>\n",
       "    <tr>\n",
       "      <th id=\"T_f8a28_level0_row19\" class=\"row_heading level0 row19\" >19</th>\n",
       "      <td id=\"T_f8a28_row19_col0\" class=\"data row19 col0\" >indica_obito</td>\n",
       "      <td id=\"T_f8a28_row19_col1\" class=\"data row19 col1\" >2</td>\n",
       "    </tr>\n",
       "  </tbody>\n",
       "</table>\n"
      ],
      "text/plain": [
       "<pandas.io.formats.style.Styler at 0x1df9d2742e0>"
      ]
     },
     "execution_count": 9,
     "metadata": {},
     "output_type": "execute_result"
    }
   ],
   "source": [
    "nunique_nucategorias =  pd.DataFrame(df.nunique().sort_values(ascending=False).copy())\n",
    "nunique_nucategorias = nunique_nucategorias.reset_index()\n",
    "nunique_nucategorias.columns = ['Atributos', 'nu_categorias']\n",
    "nunique_nucategorias.style.format({'nu_categorias' : '{:,}'})"
   ]
  },
  {
   "cell_type": "markdown",
   "id": "8cf12181-9161-44af-b1a9-292321bd76b2",
   "metadata": {
    "tags": []
   },
   "source": [
    "### Inclusion of columns"
   ]
  },
  {
   "cell_type": "code",
   "execution_count": 10,
   "id": "54945dcf-68f8-4709-80d6-62973aca19d5",
   "metadata": {},
   "outputs": [
    {
     "name": "stdout",
     "output_type": "stream",
     "text": [
      "Number of inconsistent:  (0, 20)\n",
      "Number of rows with less than 14 years old:  0\n"
     ]
    }
   ],
   "source": [
    "print(\"Number of inconsistent: \", df.loc[df.dt_acidente < df.dt_nascimento].shape)\n",
    "\n",
    "df['idade'] = (df.dt_acidente - df.dt_nascimento) // timedelta(days=365.2425)\n",
    "df['idade'] = df['idade'].astype('int64')\n",
    "print(\"Number of rows with less than 14 years old: \",  df.idade.loc[df.idade <14].count())"
   ]
  },
  {
   "cell_type": "code",
   "execution_count": 11,
   "id": "19248ecd-1192-4cf2-ab60-b552fdb23a54",
   "metadata": {},
   "outputs": [
    {
     "data": {
      "text/plain": [
       "<AxesSubplot:xlabel='idade'>"
      ]
     },
     "execution_count": 11,
     "metadata": {},
     "output_type": "execute_result"
    },
    {
     "data": {
      "image/png": "[encoded data removed]",
      "text/plain": [
       "<Figure size 432x288 with 1 Axes>"
      ]
     },
     "metadata": {
      "needs_background": "light"
     },
     "output_type": "display_data"
    }
   ],
   "source": [
    "sns.boxplot(x=df.idade)"
   ]
  },
  {
   "cell_type": "code",
   "execution_count": 12,
   "id": "57710863-da87-4ff7-a9c1-6d68fe8db3aa",
   "metadata": {},
   "outputs": [
    {
     "name": "stdout",
     "output_type": "stream",
     "text": [
      "Limite inferior:  2.0\n",
      "Limite superior:  74.0\n",
      "Max. age:  82\n",
      "Min. age:  14\n",
      "Number of outliers:  41\n"
     ]
    }
   ],
   "source": [
    "Q1 =  df.idade.quantile(.25)\n",
    "Q3 =  df.idade.quantile(.75)\n",
    "IQR = Q3 - Q1\n",
    "limite_inferior = Q1 - 1.5 * IQR\n",
    "limite_superior = Q3 + 1.5 * IQR\n",
    "print(\"Limite inferior: \", limite_inferior)\n",
    "print(\"Limite superior: \", limite_superior)\n",
    "print(\"Max. age: \", max(df.idade))\n",
    "print(\"Min. age: \", min(df.idade))\n",
    "print(\"Number of outliers: \", df.idade.loc[(df.idade < limite_inferior) | (df.idade > limite_superior)].count())"
   ]
  },
  {
   "cell_type": "code",
   "execution_count": 13,
   "id": "b5558783-150e-462a-aaa9-52ff2b2da4d5",
   "metadata": {},
   "outputs": [],
   "source": [
    "df.loc[:, 'idade'] = pd.qcut(df.idade,5)"
   ]
  },
  {
   "cell_type": "code",
   "execution_count": 14,
   "id": "20c1d994-6b1b-4ed4-aeb3-5e9b3c748086",
   "metadata": {},
   "outputs": [],
   "source": [
    "df_cid = pd.read_csv(r'atributtes/cid.csv', sep=\";\")\n",
    "df_cid = df_cid[['cd_subgrupo', 'cid_grupo','cid_capitulo']].drop_duplicates()\n",
    "\n",
    "df['cd_subgrupo'] = df.cd_cid.apply(lambda x: str(x)[:3])\n",
    "df = df.merge(df_cid, on='cd_subgrupo', how='left').copy()"
   ]
  },
  {
   "cell_type": "code",
   "execution_count": 15,
   "id": "c12f50d3-9ecb-42cf-8241-961f32cc0fdb",
   "metadata": {},
   "outputs": [],
   "source": [
    "df_cbo = pd.read_csv(r'atributtes/cbo.csv', sep=\";\")\n",
    "df_cbo = df_cbo[['cd_cbo', 'cbo_subgrupo_principal']].drop_duplicates()\n",
    "\n",
    "df = df.merge(df_cbo, on='cd_cbo', how='left').copy()"
   ]
  },
  {
   "cell_type": "code",
   "execution_count": 16,
   "id": "da922a1f-b477-48a1-8ac1-d6cc6b096b94",
   "metadata": {},
   "outputs": [],
   "source": [
    "df['dt_mes_acidente'] = pd.DatetimeIndex(df.dt_acidente).month"
   ]
  },
  {
   "cell_type": "code",
   "execution_count": 17,
   "id": "4d00ee35-ed52-4ecb-94c3-85675f4b775c",
   "metadata": {},
   "outputs": [],
   "source": []
  },
  {
   "cell_type": "code",
   "execution_count": 19,
   "id": "22591768-e2cd-4491-9931-55abe8c76524",
   "metadata": {},
   "outputs": [
    {
     "data": {
      "text/html": [
       "<style type=\"text/css\">\n",
       "</style>\n",
       "<table id=\"T_d3071_\">\n",
       "  <thead>\n",
       "    <tr>\n",
       "      <th class=\"blank level0\" >&nbsp;</th>\n",
       "      <th class=\"col_heading level0 col0\" >Atributos</th>\n",
       "      <th class=\"col_heading level0 col1\" >nu_categorias</th>\n",
       "    </tr>\n",
       "  </thead>\n",
       "  <tbody>\n",
       "    <tr>\n",
       "      <th id=\"T_d3071_level0_row0\" class=\"row_heading level0 row0\" >0</th>\n",
       "      <td id=\"T_d3071_row0_col0\" class=\"data row0 col0\" >dt_nascimento</td>\n",
       "      <td id=\"T_d3071_row0_col1\" class=\"data row0 col1\" >17,521</td>\n",
       "    </tr>\n",
       "    <tr>\n",
       "      <th id=\"T_d3071_level0_row1\" class=\"row_heading level0 row1\" >1</th>\n",
       "      <td id=\"T_d3071_row1_col0\" class=\"data row1 col0\" >cd_cid</td>\n",
       "      <td id=\"T_d3071_row1_col1\" class=\"data row1 col1\" >2,599</td>\n",
       "    </tr>\n",
       "    <tr>\n",
       "      <th id=\"T_d3071_level0_row2\" class=\"row_heading level0 row2\" >2</th>\n",
       "      <td id=\"T_d3071_row2_col0\" class=\"data row2 col0\" >cid_descricao</td>\n",
       "      <td id=\"T_d3071_row2_col1\" class=\"data row2 col1\" >2,599</td>\n",
       "    </tr>\n",
       "    <tr>\n",
       "      <th id=\"T_d3071_level0_row3\" class=\"row_heading level0 row3\" >3</th>\n",
       "      <td id=\"T_d3071_row3_col0\" class=\"data row3 col0\" >cd_municipio_empregador</td>\n",
       "      <td id=\"T_d3071_row3_col1\" class=\"data row3 col1\" >2,112</td>\n",
       "    </tr>\n",
       "    <tr>\n",
       "      <th id=\"T_d3071_level0_row4\" class=\"row_heading level0 row4\" >4</th>\n",
       "      <td id=\"T_d3071_row4_col0\" class=\"data row4 col0\" >municipio_empregador</td>\n",
       "      <td id=\"T_d3071_row4_col1\" class=\"data row4 col1\" >2,112</td>\n",
       "    </tr>\n",
       "    <tr>\n",
       "      <th id=\"T_d3071_level0_row5\" class=\"row_heading level0 row5\" >5</th>\n",
       "      <td id=\"T_d3071_row5_col0\" class=\"data row5 col0\" >dt_acidente</td>\n",
       "      <td id=\"T_d3071_row5_col1\" class=\"data row5 col1\" >2,054</td>\n",
       "    </tr>\n",
       "    <tr>\n",
       "      <th id=\"T_d3071_level0_row6\" class=\"row_heading level0 row6\" >6</th>\n",
       "      <td id=\"T_d3071_row6_col0\" class=\"data row6 col0\" >cd_cbo</td>\n",
       "      <td id=\"T_d3071_row6_col1\" class=\"data row6 col1\" >808</td>\n",
       "    </tr>\n",
       "    <tr>\n",
       "      <th id=\"T_d3071_level0_row7\" class=\"row_heading level0 row7\" >7</th>\n",
       "      <td id=\"T_d3071_row7_col0\" class=\"data row7 col0\" >cbo_descricao</td>\n",
       "      <td id=\"T_d3071_row7_col1\" class=\"data row7 col1\" >808</td>\n",
       "    </tr>\n",
       "    <tr>\n",
       "      <th id=\"T_d3071_level0_row8\" class=\"row_heading level0 row8\" >8</th>\n",
       "      <td id=\"T_d3071_row8_col0\" class=\"data row8 col0\" >cd_subgrupo</td>\n",
       "      <td id=\"T_d3071_row8_col1\" class=\"data row8 col1\" >794</td>\n",
       "    </tr>\n",
       "    <tr>\n",
       "      <th id=\"T_d3071_level0_row9\" class=\"row_heading level0 row9\" >9</th>\n",
       "      <td id=\"T_d3071_row9_col0\" class=\"data row9 col0\" >agente_causador</td>\n",
       "      <td id=\"T_d3071_row9_col1\" class=\"data row9 col1\" >281</td>\n",
       "    </tr>\n",
       "    <tr>\n",
       "      <th id=\"T_d3071_level0_row10\" class=\"row_heading level0 row10\" >10</th>\n",
       "      <td id=\"T_d3071_row10_col0\" class=\"data row10 col0\" >cid_grupo</td>\n",
       "      <td id=\"T_d3071_row10_col1\" class=\"data row10 col1\" >154</td>\n",
       "    </tr>\n",
       "    <tr>\n",
       "      <th id=\"T_d3071_level0_row11\" class=\"row_heading level0 row11\" >11</th>\n",
       "      <td id=\"T_d3071_row11_col0\" class=\"data row11 col0\" >cbo_subgrupo_principal</td>\n",
       "      <td id=\"T_d3071_row11_col1\" class=\"data row11 col1\" >41</td>\n",
       "    </tr>\n",
       "    <tr>\n",
       "      <th id=\"T_d3071_level0_row12\" class=\"row_heading level0 row12\" >12</th>\n",
       "      <td id=\"T_d3071_row12_col0\" class=\"data row12 col0\" >parte_corpo_atingida</td>\n",
       "      <td id=\"T_d3071_row12_col1\" class=\"data row12 col1\" >39</td>\n",
       "    </tr>\n",
       "    <tr>\n",
       "      <th id=\"T_d3071_level0_row13\" class=\"row_heading level0 row13\" >13</th>\n",
       "      <td id=\"T_d3071_row13_col0\" class=\"data row13 col0\" >natureza_lesao</td>\n",
       "      <td id=\"T_d3071_row13_col1\" class=\"data row13 col1\" >29</td>\n",
       "    </tr>\n",
       "    <tr>\n",
       "      <th id=\"T_d3071_level0_row14\" class=\"row_heading level0 row14\" >14</th>\n",
       "      <td id=\"T_d3071_row14_col0\" class=\"data row14 col0\" >uf_empregador</td>\n",
       "      <td id=\"T_d3071_row14_col1\" class=\"data row14 col1\" >27</td>\n",
       "    </tr>\n",
       "    <tr>\n",
       "      <th id=\"T_d3071_level0_row15\" class=\"row_heading level0 row15\" >15</th>\n",
       "      <td id=\"T_d3071_row15_col0\" class=\"data row15 col0\" >cid_capitulo</td>\n",
       "      <td id=\"T_d3071_row15_col1\" class=\"data row15 col1\" >21</td>\n",
       "    </tr>\n",
       "    <tr>\n",
       "      <th id=\"T_d3071_level0_row16\" class=\"row_heading level0 row16\" >16</th>\n",
       "      <td id=\"T_d3071_row16_col0\" class=\"data row16 col0\" >dt_mes_acidente</td>\n",
       "      <td id=\"T_d3071_row16_col1\" class=\"data row16 col1\" >12</td>\n",
       "    </tr>\n",
       "    <tr>\n",
       "      <th id=\"T_d3071_level0_row17\" class=\"row_heading level0 row17\" >17</th>\n",
       "      <td id=\"T_d3071_row17_col0\" class=\"data row17 col0\" >cd_cnae</td>\n",
       "      <td id=\"T_d3071_row17_col1\" class=\"data row17 col1\" >10</td>\n",
       "    </tr>\n",
       "    <tr>\n",
       "      <th id=\"T_d3071_level0_row18\" class=\"row_heading level0 row18\" >18</th>\n",
       "      <td id=\"T_d3071_row18_col0\" class=\"data row18 col0\" >cnae_descricao</td>\n",
       "      <td id=\"T_d3071_row18_col1\" class=\"data row18 col1\" >8</td>\n",
       "    </tr>\n",
       "    <tr>\n",
       "      <th id=\"T_d3071_level0_row19\" class=\"row_heading level0 row19\" >19</th>\n",
       "      <td id=\"T_d3071_row19_col0\" class=\"data row19 col0\" >especie_beneficio</td>\n",
       "      <td id=\"T_d3071_row19_col1\" class=\"data row19 col1\" >5</td>\n",
       "    </tr>\n",
       "    <tr>\n",
       "      <th id=\"T_d3071_level0_row20\" class=\"row_heading level0 row20\" >20</th>\n",
       "      <td id=\"T_d3071_row20_col0\" class=\"data row20 col0\" >idade</td>\n",
       "      <td id=\"T_d3071_row20_col1\" class=\"data row20 col1\" >5</td>\n",
       "    </tr>\n",
       "    <tr>\n",
       "      <th id=\"T_d3071_level0_row21\" class=\"row_heading level0 row21\" >21</th>\n",
       "      <td id=\"T_d3071_row21_col0\" class=\"data row21 col0\" >emitente</td>\n",
       "      <td id=\"T_d3071_row21_col1\" class=\"data row21 col1\" >5</td>\n",
       "    </tr>\n",
       "    <tr>\n",
       "      <th id=\"T_d3071_level0_row22\" class=\"row_heading level0 row22\" >22</th>\n",
       "      <td id=\"T_d3071_row22_col0\" class=\"data row22 col0\" >sexo</td>\n",
       "      <td id=\"T_d3071_row22_col1\" class=\"data row22 col1\" >3</td>\n",
       "    </tr>\n",
       "    <tr>\n",
       "      <th id=\"T_d3071_level0_row23\" class=\"row_heading level0 row23\" >23</th>\n",
       "      <td id=\"T_d3071_row23_col0\" class=\"data row23 col0\" >tp_acidente</td>\n",
       "      <td id=\"T_d3071_row23_col1\" class=\"data row23 col1\" >3</td>\n",
       "    </tr>\n",
       "    <tr>\n",
       "      <th id=\"T_d3071_level0_row24\" class=\"row_heading level0 row24\" >24</th>\n",
       "      <td id=\"T_d3071_row24_col0\" class=\"data row24 col0\" >indica_obito</td>\n",
       "      <td id=\"T_d3071_row24_col1\" class=\"data row24 col1\" >2</td>\n",
       "    </tr>\n",
       "    <tr>\n",
       "      <th id=\"T_d3071_level0_row25\" class=\"row_heading level0 row25\" >25</th>\n",
       "      <td id=\"T_d3071_row25_col0\" class=\"data row25 col0\" >filiacao_segurado</td>\n",
       "      <td id=\"T_d3071_row25_col1\" class=\"data row25 col1\" >2</td>\n",
       "    </tr>\n",
       "  </tbody>\n",
       "</table>\n"
      ],
      "text/plain": [
       "<pandas.io.formats.style.Styler at 0x1df113969a0>"
      ]
     },
     "execution_count": 19,
     "metadata": {},
     "output_type": "execute_result"
    }
   ],
   "source": [
    "nunique_nucategorias =  pd.DataFrame(df.nunique().sort_values(ascending=False).copy())\n",
    "nunique_nucategorias = nunique_nucategorias.reset_index()\n",
    "nunique_nucategorias.columns = ['Atributos', 'nu_categorias']\n",
    "nunique_nucategorias.style.format({'nu_categorias' : '{:,}'})"
   ]
  },
  {
   "cell_type": "code",
   "execution_count": 22,
   "id": "5cb481b4-b1a9-4cfd-8eae-87242489356d",
   "metadata": {},
   "outputs": [],
   "source": [
    "df_final = df.drop(columns=['dt_nascimento', 'cd_cid', 'cid_descricao', 'cd_cnae', 'cd_subgrupo'])"
   ]
  },
  {
   "cell_type": "code",
   "execution_count": 24,
   "id": "a1a89c5f-437e-4f4f-bf5c-6f7c375f9736",
   "metadata": {},
   "outputs": [
    {
     "data": {
      "text/html": [
       "<style type=\"text/css\">\n",
       "</style>\n",
       "<table id=\"T_87bd0_\">\n",
       "  <thead>\n",
       "    <tr>\n",
       "      <th class=\"blank level0\" >&nbsp;</th>\n",
       "      <th class=\"col_heading level0 col0\" >Atributos</th>\n",
       "      <th class=\"col_heading level0 col1\" >nu_categorias</th>\n",
       "    </tr>\n",
       "  </thead>\n",
       "  <tbody>\n",
       "    <tr>\n",
       "      <th id=\"T_87bd0_level0_row0\" class=\"row_heading level0 row0\" >0</th>\n",
       "      <td id=\"T_87bd0_row0_col0\" class=\"data row0 col0\" >municipio_empregador</td>\n",
       "      <td id=\"T_87bd0_row0_col1\" class=\"data row0 col1\" >2,112</td>\n",
       "    </tr>\n",
       "    <tr>\n",
       "      <th id=\"T_87bd0_level0_row1\" class=\"row_heading level0 row1\" >1</th>\n",
       "      <td id=\"T_87bd0_row1_col0\" class=\"data row1 col0\" >cd_municipio_empregador</td>\n",
       "      <td id=\"T_87bd0_row1_col1\" class=\"data row1 col1\" >2,112</td>\n",
       "    </tr>\n",
       "    <tr>\n",
       "      <th id=\"T_87bd0_level0_row2\" class=\"row_heading level0 row2\" >2</th>\n",
       "      <td id=\"T_87bd0_row2_col0\" class=\"data row2 col0\" >dt_acidente</td>\n",
       "      <td id=\"T_87bd0_row2_col1\" class=\"data row2 col1\" >2,054</td>\n",
       "    </tr>\n",
       "    <tr>\n",
       "      <th id=\"T_87bd0_level0_row3\" class=\"row_heading level0 row3\" >3</th>\n",
       "      <td id=\"T_87bd0_row3_col0\" class=\"data row3 col0\" >cbo_descricao</td>\n",
       "      <td id=\"T_87bd0_row3_col1\" class=\"data row3 col1\" >808</td>\n",
       "    </tr>\n",
       "    <tr>\n",
       "      <th id=\"T_87bd0_level0_row4\" class=\"row_heading level0 row4\" >4</th>\n",
       "      <td id=\"T_87bd0_row4_col0\" class=\"data row4 col0\" >cd_cbo</td>\n",
       "      <td id=\"T_87bd0_row4_col1\" class=\"data row4 col1\" >808</td>\n",
       "    </tr>\n",
       "    <tr>\n",
       "      <th id=\"T_87bd0_level0_row5\" class=\"row_heading level0 row5\" >5</th>\n",
       "      <td id=\"T_87bd0_row5_col0\" class=\"data row5 col0\" >agente_causador</td>\n",
       "      <td id=\"T_87bd0_row5_col1\" class=\"data row5 col1\" >281</td>\n",
       "    </tr>\n",
       "    <tr>\n",
       "      <th id=\"T_87bd0_level0_row6\" class=\"row_heading level0 row6\" >6</th>\n",
       "      <td id=\"T_87bd0_row6_col0\" class=\"data row6 col0\" >cid_grupo</td>\n",
       "      <td id=\"T_87bd0_row6_col1\" class=\"data row6 col1\" >154</td>\n",
       "    </tr>\n",
       "    <tr>\n",
       "      <th id=\"T_87bd0_level0_row7\" class=\"row_heading level0 row7\" >7</th>\n",
       "      <td id=\"T_87bd0_row7_col0\" class=\"data row7 col0\" >cbo_subgrupo_principal</td>\n",
       "      <td id=\"T_87bd0_row7_col1\" class=\"data row7 col1\" >41</td>\n",
       "    </tr>\n",
       "    <tr>\n",
       "      <th id=\"T_87bd0_level0_row8\" class=\"row_heading level0 row8\" >8</th>\n",
       "      <td id=\"T_87bd0_row8_col0\" class=\"data row8 col0\" >parte_corpo_atingida</td>\n",
       "      <td id=\"T_87bd0_row8_col1\" class=\"data row8 col1\" >39</td>\n",
       "    </tr>\n",
       "    <tr>\n",
       "      <th id=\"T_87bd0_level0_row9\" class=\"row_heading level0 row9\" >9</th>\n",
       "      <td id=\"T_87bd0_row9_col0\" class=\"data row9 col0\" >natureza_lesao</td>\n",
       "      <td id=\"T_87bd0_row9_col1\" class=\"data row9 col1\" >29</td>\n",
       "    </tr>\n",
       "    <tr>\n",
       "      <th id=\"T_87bd0_level0_row10\" class=\"row_heading level0 row10\" >10</th>\n",
       "      <td id=\"T_87bd0_row10_col0\" class=\"data row10 col0\" >uf_empregador</td>\n",
       "      <td id=\"T_87bd0_row10_col1\" class=\"data row10 col1\" >27</td>\n",
       "    </tr>\n",
       "    <tr>\n",
       "      <th id=\"T_87bd0_level0_row11\" class=\"row_heading level0 row11\" >11</th>\n",
       "      <td id=\"T_87bd0_row11_col0\" class=\"data row11 col0\" >cid_capitulo</td>\n",
       "      <td id=\"T_87bd0_row11_col1\" class=\"data row11 col1\" >21</td>\n",
       "    </tr>\n",
       "    <tr>\n",
       "      <th id=\"T_87bd0_level0_row12\" class=\"row_heading level0 row12\" >12</th>\n",
       "      <td id=\"T_87bd0_row12_col0\" class=\"data row12 col0\" >dt_mes_acidente</td>\n",
       "      <td id=\"T_87bd0_row12_col1\" class=\"data row12 col1\" >12</td>\n",
       "    </tr>\n",
       "    <tr>\n",
       "      <th id=\"T_87bd0_level0_row13\" class=\"row_heading level0 row13\" >13</th>\n",
       "      <td id=\"T_87bd0_row13_col0\" class=\"data row13 col0\" >cnae_descricao</td>\n",
       "      <td id=\"T_87bd0_row13_col1\" class=\"data row13 col1\" >8</td>\n",
       "    </tr>\n",
       "    <tr>\n",
       "      <th id=\"T_87bd0_level0_row14\" class=\"row_heading level0 row14\" >14</th>\n",
       "      <td id=\"T_87bd0_row14_col0\" class=\"data row14 col0\" >especie_beneficio</td>\n",
       "      <td id=\"T_87bd0_row14_col1\" class=\"data row14 col1\" >5</td>\n",
       "    </tr>\n",
       "    <tr>\n",
       "      <th id=\"T_87bd0_level0_row15\" class=\"row_heading level0 row15\" >15</th>\n",
       "      <td id=\"T_87bd0_row15_col0\" class=\"data row15 col0\" >idade</td>\n",
       "      <td id=\"T_87bd0_row15_col1\" class=\"data row15 col1\" >5</td>\n",
       "    </tr>\n",
       "    <tr>\n",
       "      <th id=\"T_87bd0_level0_row16\" class=\"row_heading level0 row16\" >16</th>\n",
       "      <td id=\"T_87bd0_row16_col0\" class=\"data row16 col0\" >emitente</td>\n",
       "      <td id=\"T_87bd0_row16_col1\" class=\"data row16 col1\" >5</td>\n",
       "    </tr>\n",
       "    <tr>\n",
       "      <th id=\"T_87bd0_level0_row17\" class=\"row_heading level0 row17\" >17</th>\n",
       "      <td id=\"T_87bd0_row17_col0\" class=\"data row17 col0\" >sexo</td>\n",
       "      <td id=\"T_87bd0_row17_col1\" class=\"data row17 col1\" >3</td>\n",
       "    </tr>\n",
       "    <tr>\n",
       "      <th id=\"T_87bd0_level0_row18\" class=\"row_heading level0 row18\" >18</th>\n",
       "      <td id=\"T_87bd0_row18_col0\" class=\"data row18 col0\" >tp_acidente</td>\n",
       "      <td id=\"T_87bd0_row18_col1\" class=\"data row18 col1\" >3</td>\n",
       "    </tr>\n",
       "    <tr>\n",
       "      <th id=\"T_87bd0_level0_row19\" class=\"row_heading level0 row19\" >19</th>\n",
       "      <td id=\"T_87bd0_row19_col0\" class=\"data row19 col0\" >indica_obito</td>\n",
       "      <td id=\"T_87bd0_row19_col1\" class=\"data row19 col1\" >2</td>\n",
       "    </tr>\n",
       "    <tr>\n",
       "      <th id=\"T_87bd0_level0_row20\" class=\"row_heading level0 row20\" >20</th>\n",
       "      <td id=\"T_87bd0_row20_col0\" class=\"data row20 col0\" >filiacao_segurado</td>\n",
       "      <td id=\"T_87bd0_row20_col1\" class=\"data row20 col1\" >2</td>\n",
       "    </tr>\n",
       "  </tbody>\n",
       "</table>\n"
      ],
      "text/plain": [
       "<pandas.io.formats.style.Styler at 0x1df113dd6d0>"
      ]
     },
     "execution_count": 24,
     "metadata": {},
     "output_type": "execute_result"
    }
   ],
   "source": [
    "nunique_nucategorias =  pd.DataFrame(df_final.nunique().sort_values(ascending=False).copy())\n",
    "nunique_nucategorias = nunique_nucategorias.reset_index()\n",
    "nunique_nucategorias.columns = ['Atributos', 'nu_categorias']\n",
    "nunique_nucategorias.style.format({'nu_categorias' : '{:,}'})"
   ]
  },
  {
   "cell_type": "code",
   "execution_count": 25,
   "id": "d9401ef1-8eaf-428e-9890-21b1a03df046",
   "metadata": {},
   "outputs": [],
   "source": [
    "df_final.to_csv('land_transport_dataset.csv', sep=\";\")"
   ]
  }
 ],
 "metadata": {
  "kernelspec": {
   "display_name": "Python 3 (ipykernel)",
   "language": "python",
   "name": "python3"
  },
  "language_info": {
   "codemirror_mode": {
    "name": "ipython",
    "version": 3
   },
   "file_extension": ".py",
   "mimetype": "text/x-python",
   "name": "python",
   "nbconvert_exporter": "python",
   "pygments_lexer": "ipython3",
   "version": "3.9.7"
  }
 },
 "nbformat": 4,
 "nbformat_minor": 5
}
