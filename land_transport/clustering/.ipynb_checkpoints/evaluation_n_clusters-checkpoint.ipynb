{
 "cells": [
  {
   "cell_type": "code",
   "execution_count": 15,
   "id": "ed555c6d-d081-4e42-b4e8-38677b497081",
   "metadata": {},
   "outputs": [],
   "source": [
    "import pandas as pd\n",
    "import numpy as np\n",
    "import matplotlib.pyplot as plt\n",
    "from sklearn.cluster import KMeans\n",
    "from sklearn import metrics\n",
    "from sklearn.preprocessing import Normalizer"
   ]
  },
  {
   "cell_type": "code",
   "execution_count": 2,
   "id": "c27e2ea4-4bab-43de-bf82-07ea85da3d46",
   "metadata": {},
   "outputs": [],
   "source": [
    "def clustering_agorithm(k, dataset,peso, SEED):\n",
    "    km = KMeans(n_clusters=k, max_iter=10_000, n_init=100, random_state=SEED)\n",
    "    labels = km.fit_predict(dataset, sample_weight=peso)\n",
    "    s = metrics.silhouette_score(dataset,labels, metric='euclidean')\n",
    "    dbs = metrics.davies_bouldin_score(dataset,labels)\n",
    "    calinski = metrics.calinski_harabasz_score(dataset,labels)\n",
    "    return s, dbs, calinski"
   ]
  },
  {
   "cell_type": "code",
   "execution_count": 3,
   "id": "668417b1-2dba-45cf-a959-87a6de76fa3e",
   "metadata": {},
   "outputs": [],
   "source": [
    "SEED = 2024\n",
    "n_clusters = range(2,15)"
   ]
  },
  {
   "cell_type": "code",
   "execution_count": 4,
   "id": "2b868f9e-5967-4c72-9991-c1260bf02b75",
   "metadata": {},
   "outputs": [
    {
     "data": {
      "text/plain": [
       "(91684, 22)"
      ]
     },
     "execution_count": 4,
     "metadata": {},
     "output_type": "execute_result"
    }
   ],
   "source": [
    "df_raw = pd.read_csv('land_transport_dataset.csv', sep=';')\n",
    "df_raw.shape"
   ]
  },
  {
   "cell_type": "code",
   "execution_count": 5,
   "id": "82cb7269-948c-479e-a3ba-c38b14d4440e",
   "metadata": {},
   "outputs": [],
   "source": [
    "df_raw.dt_mes_acidente.replace([1,2,3,4,5,6,7,8,9,10,11,12], \n",
    "                               ['Jan', 'Fev', 'Mar','Abr', 'Mai', 'Jun', 'Jul', 'Ago', 'Sep', 'Out','Nov', 'Dez'], inplace=True)"
   ]
  },
  {
   "cell_type": "code",
   "execution_count": 6,
   "id": "120ce17a-95cf-4072-b2b1-76cc7c74a974",
   "metadata": {},
   "outputs": [],
   "source": [
    "df_raw.dt_ano_acidente = df_raw.dt_ano_acidente.astype('str')"
   ]
  },
  {
   "cell_type": "markdown",
   "id": "d10be335-be0a-4d74-870a-60bd4e94fcc0",
   "metadata": {
    "tags": []
   },
   "source": [
    "### Elbow Method Without Time Atributtes"
   ]
  },
  {
   "cell_type": "code",
   "execution_count": 7,
   "id": "fe2fb281-12d7-4112-a076-423011168e0b",
   "metadata": {},
   "outputs": [],
   "source": [
    "df = df_raw.drop(columns=['cd_municipio_empregador', 'municipio_empregador', 'dt_mes_acidente',\n",
    "                              'dt_acidente', 'cid_capitulo', 'cd_cbo', 'cbo_descricao', 'dt_ano_acidente'])"
   ]
  },
  {
   "cell_type": "code",
   "execution_count": 8,
   "id": "ea8d7861-210f-494c-b77c-8cb0b7913aec",
   "metadata": {},
   "outputs": [
    {
     "data": {
      "text/plain": [
       "(91684, 14)"
      ]
     },
     "execution_count": 8,
     "metadata": {},
     "output_type": "execute_result"
    }
   ],
   "source": [
    "df_all = pd.DataFrame(df.value_counts().reset_index())\n",
    "df.shape"
   ]
  },
  {
   "cell_type": "code",
   "execution_count": 9,
   "id": "d790c5c8-25a2-4261-9cfc-c27c8486b5a3",
   "metadata": {},
   "outputs": [],
   "source": [
    "df_all.columns = ['agente_causador','cnae_descricao','emitente','especie_beneficio',\n",
    "              'filiacao_segurado','indica_obito','natureza_lesao','parte_corpo_atingida','sexo',\n",
    "                   'tp_acidente','uf_empregador','idade','cid_grupo',\n",
    "               'cbo_subgrupo_principal', 'n_amostras']"
   ]
  },
  {
   "cell_type": "code",
   "execution_count": 10,
   "id": "a0519702-13e9-42e4-aed9-d18c7aa4c5c9",
   "metadata": {},
   "outputs": [
    {
     "data": {
      "text/plain": [
       "(73977, 605)"
      ]
     },
     "execution_count": 10,
     "metadata": {},
     "output_type": "execute_result"
    }
   ],
   "source": [
    "peso = df_all.n_amostras\n",
    "df_code = pd.get_dummies(df_all.drop(columns=['n_amostras']))\n",
    "df_code.shape"
   ]
  },
  {
   "cell_type": "code",
   "execution_count": 11,
   "id": "c5803a22-7d80-464f-8c1c-40e9c1dd8ffc",
   "metadata": {},
   "outputs": [],
   "source": [
    "X = df_code.div(df_code.sum(axis=1), axis='rows')"
   ]
  },
  {
   "cell_type": "code",
   "execution_count": 12,
   "id": "6d2ec4a9-8cb8-4111-8de9-c96b61d68ed2",
   "metadata": {
    "tags": []
   },
   "outputs": [
    {
     "name": "stdout",
     "output_type": "stream",
     "text": [
      "2\n",
      "3\n",
      "4\n",
      "5\n",
      "6\n",
      "7\n",
      "8\n",
      "9\n",
      "10\n",
      "11\n",
      "12\n",
      "13\n",
      "14\n"
     ]
    }
   ],
   "source": [
    "distortions = []\n",
    "for n_clus in n_clusters:\n",
    "    print(n_clus)\n",
    "    distortions.append(KMeans(n_clusters=n_clus, max_iter=10_000, n_init=100, random_state=SEED).fit(X, sample_weight=peso).inertia_)"
   ]
  },
  {
   "cell_type": "code",
   "execution_count": 13,
   "id": "920b53e7-7633-40a1-811e-093beb21020a",
   "metadata": {},
   "outputs": [
    {
     "data": {
      "image/png": "[encoded data removed]",
      "text/plain": [
       "<Figure size 720x360 with 1 Axes>"
      ]
     },
     "metadata": {
      "needs_background": "light"
     },
     "output_type": "display_data"
    }
   ],
   "source": [
    "plt.figure(figsize=(10,5))\n",
    "plt.plot(n_clusters, distortions)\n",
    "plt.xlabel('Número de clusters')\n",
    "plt.ylabel('Soma dos quadrados intra-clusters')\n",
    "plt.grid()"
   ]
  },
  {
   "cell_type": "code",
   "execution_count": 14,
   "id": "c5663fb8-1e5c-4d1b-a137-7c12230f7db4",
   "metadata": {},
   "outputs": [
    {
     "name": "stdout",
     "output_type": "stream",
     "text": [
      "0.0718142555343571 3.6082661982841486 3848.796463847226\n"
     ]
    }
   ],
   "source": [
    "s, dbs, calinski = clustering_agorithm(3, X ,peso, SEED)\n",
    "print(s, dbs, calinski)"
   ]
  },
  {
   "cell_type": "code",
   "execution_count": 15,
   "id": "8dd48595-66f7-4b62-9533-2497821339b3",
   "metadata": {},
   "outputs": [
    {
     "name": "stdout",
     "output_type": "stream",
     "text": [
      "0.05060704916413821 3.5111509433575474 3365.3494459606695\n"
     ]
    }
   ],
   "source": [
    "s, dbs, calinski = clustering_agorithm(4, X ,peso, SEED)\n",
    "print(s, dbs, calinski)"
   ]
  },
  {
   "cell_type": "code",
   "execution_count": 16,
   "id": "16ecd0e5-a4ed-47bd-883c-7fb2589b5612",
   "metadata": {},
   "outputs": [
    {
     "name": "stdout",
     "output_type": "stream",
     "text": [
      "0.05123033502014146 3.3683126017163945 1992.5133752132633\n"
     ]
    }
   ],
   "source": [
    "s, dbs, calinski = clustering_agorithm(10, X ,peso, SEED)\n",
    "print(s, dbs, calinski)"
   ]
  },
  {
   "cell_type": "markdown",
   "id": "370653c7-1640-40cd-9991-c888d951ac2b",
   "metadata": {
    "jp-MarkdownHeadingCollapsed": true,
    "tags": []
   },
   "source": [
    "### Elbow Method Year"
   ]
  },
  {
   "cell_type": "code",
   "execution_count": 17,
   "id": "d1bda314-4a4f-482b-a8ee-c8fcefe0a8ac",
   "metadata": {},
   "outputs": [],
   "source": [
    "df_ano = df_raw.copy()\n",
    "df_ano = df_ano.drop(columns=['cd_municipio_empregador', 'municipio_empregador', 'dt_mes_acidente',\n",
    "                              'dt_acidente', 'cid_capitulo', 'cd_cbo', 'cbo_descricao'])\n",
    "df_ano = pd.DataFrame(df_ano.value_counts().reset_index())"
   ]
  },
  {
   "cell_type": "code",
   "execution_count": 18,
   "id": "09de0c8c-72b9-4147-9f39-4126f82cf351",
   "metadata": {},
   "outputs": [
    {
     "data": {
      "text/plain": [
       "(78238, 16)"
      ]
     },
     "execution_count": 18,
     "metadata": {},
     "output_type": "execute_result"
    }
   ],
   "source": [
    "df_ano.columns = ['agente_causador', 'cnae_descricao', 'emitente', 'especie_beneficio',\n",
    "       'filiacao_segurado', 'indica_obito', 'natureza_lesao',\n",
    "       'parte_corpo_atingida', 'sexo', 'tp_acidente', 'uf_empregador', 'idade',\n",
    "       'cid_grupo', 'cbo_subgrupo_principal', 'dt_ano_acidente', 'n_amostras']\n",
    "df_ano.shape"
   ]
  },
  {
   "cell_type": "code",
   "execution_count": 19,
   "id": "420e28c7-7c1d-422f-aaf6-31b3a2c8a511",
   "metadata": {},
   "outputs": [
    {
     "data": {
      "text/plain": [
       "(78238, 611)"
      ]
     },
     "execution_count": 19,
     "metadata": {},
     "output_type": "execute_result"
    }
   ],
   "source": [
    "peso_ano = df_ano.n_amostras\n",
    "df_d_ano = pd.get_dummies(df_ano.drop(columns=['n_amostras']))\n",
    "df_d_ano.shape"
   ]
  },
  {
   "cell_type": "code",
   "execution_count": 20,
   "id": "f7916169-2e45-4029-8821-b3c36d4276cc",
   "metadata": {},
   "outputs": [
    {
     "name": "stdout",
     "output_type": "stream",
     "text": [
      "2\n",
      "3\n",
      "4\n",
      "5\n",
      "6\n",
      "7\n",
      "8\n",
      "9\n",
      "10\n",
      "11\n",
      "12\n",
      "13\n",
      "14\n"
     ]
    }
   ],
   "source": [
    "X_ano = df_d_ano.div(df_d_ano.sum(axis=1), axis='rows')\n",
    "distortions_ano = []\n",
    "for n_clus in n_clusters:\n",
    "    print(n_clus)\n",
    "    distortions_ano.append(KMeans(n_clusters=n_clus, max_iter=10_000, n_init=100, random_state=SEED)\n",
    "                           .fit(X_ano, sample_weight=peso_ano).inertia_)"
   ]
  },
  {
   "cell_type": "code",
   "execution_count": 21,
   "id": "d41a6ea1-6197-49bc-9d37-54c56d6a2391",
   "metadata": {},
   "outputs": [
    {
     "data": {
      "image/png": "[encoded data removed]",
      "text/plain": [
       "<Figure size 720x360 with 1 Axes>"
      ]
     },
     "metadata": {
      "needs_background": "light"
     },
     "output_type": "display_data"
    }
   ],
   "source": [
    "plt.figure(figsize=(10,5))\n",
    "plt.plot(n_clusters, distortions_ano)\n",
    "plt.xlabel('Número de clusters')\n",
    "plt.ylabel('Soma dos quadrados intra-clusters')\n",
    "plt.grid()"
   ]
  },
  {
   "cell_type": "code",
   "execution_count": 22,
   "id": "55d11d87-eb05-452a-a70c-4ff6a94bca46",
   "metadata": {},
   "outputs": [
    {
     "name": "stdout",
     "output_type": "stream",
     "text": [
      "0.06567548419324148 3.8033209665315404 3628.5870340798915\n"
     ]
    }
   ],
   "source": [
    "s_ano, dbs_ano, calinski_ano = clustering_agorithm(3, X_ano ,peso_ano, SEED)\n",
    "print(s_ano, dbs_ano, calinski_ano)"
   ]
  },
  {
   "cell_type": "code",
   "execution_count": 23,
   "id": "99dc49cd-b042-401a-aa17-f4a46765885c",
   "metadata": {},
   "outputs": [
    {
     "name": "stdout",
     "output_type": "stream",
     "text": [
      "0.04573474082235284 3.708681538473788 3208.733104531701\n"
     ]
    }
   ],
   "source": [
    "s_ano, dbs_ano, calinski_ano = clustering_agorithm(4, X_ano ,peso_ano, SEED)\n",
    "print(s_ano, dbs_ano, calinski_ano)"
   ]
  },
  {
   "cell_type": "code",
   "execution_count": 24,
   "id": "66923a5f-420c-439b-a340-e415eecc9df7",
   "metadata": {},
   "outputs": [
    {
     "name": "stdout",
     "output_type": "stream",
     "text": [
      "0.04544238027393819 3.8293502008974167 1875.1731015245825\n"
     ]
    }
   ],
   "source": [
    "s_ano, dbs_ano, calinski_ano = clustering_agorithm(10, X_ano ,peso_ano, SEED)\n",
    "print(s_ano, dbs_ano, calinski_ano)"
   ]
  },
  {
   "cell_type": "markdown",
   "id": "b28661fd-2574-4b08-98a8-b2d118f7799f",
   "metadata": {
    "jp-MarkdownHeadingCollapsed": true,
    "tags": []
   },
   "source": [
    "### Elbow Method Month"
   ]
  },
  {
   "cell_type": "code",
   "execution_count": 25,
   "id": "b0b642e7-f49d-476f-8191-551525e1ec27",
   "metadata": {
    "tags": []
   },
   "outputs": [],
   "source": [
    "df_mes = df_raw.drop(columns=['cd_municipio_empregador', 'municipio_empregador',\n",
    "                              'dt_acidente','dt_ano_acidente', 'cid_capitulo', 'cd_cbo', 'cbo_descricao'])\n",
    "df_mes = pd.DataFrame(df_mes.value_counts().reset_index())\n",
    "df_mes.columns = [       'agente_causador',         'cnae_descricao',\n",
    "                     'emitente',      'especie_beneficio',\n",
    "            'filiacao_segurado',           'indica_obito',\n",
    "               'natureza_lesao',   'parte_corpo_atingida',\n",
    "                         'sexo',            'tp_acidente',\n",
    "                'uf_empregador',                  'idade',\n",
    "                    'cid_grupo', 'cbo_subgrupo_principal',\n",
    "              'dt_mes_acidente',                        'n_amostras']"
   ]
  },
  {
   "cell_type": "code",
   "execution_count": 26,
   "id": "4b74a8b5-eacf-44c7-a462-258e04e185d7",
   "metadata": {},
   "outputs": [
    {
     "data": {
      "text/plain": [
       "(79904, 617)"
      ]
     },
     "execution_count": 26,
     "metadata": {},
     "output_type": "execute_result"
    }
   ],
   "source": [
    "peso_mes = df_mes.n_amostras\n",
    "df_d_mes = pd.get_dummies(df_mes.drop(columns=['n_amostras']))\n",
    "df_d_mes.shape"
   ]
  },
  {
   "cell_type": "code",
   "execution_count": 27,
   "id": "4ebc47a0-fd64-40cb-b35a-39c53d35efbb",
   "metadata": {},
   "outputs": [
    {
     "name": "stdout",
     "output_type": "stream",
     "text": [
      "2\n",
      "3\n",
      "4\n",
      "5\n",
      "6\n",
      "7\n",
      "8\n",
      "9\n",
      "10\n",
      "11\n",
      "12\n",
      "13\n",
      "14\n"
     ]
    }
   ],
   "source": [
    "X_mes = df_d_mes.div(df_d_mes.sum(axis=1), axis='rows')\n",
    "distortions_mes = []\n",
    "for n_clus in n_clusters:\n",
    "    print(n_clus)\n",
    "    distortions_mes.append(\n",
    "        KMeans(n_clusters=n_clus, max_iter=10_000, n_init=100, random_state=SEED).fit(X_mes, sample_weight=peso_mes).inertia_)"
   ]
  },
  {
   "cell_type": "code",
   "execution_count": 28,
   "id": "2e954f19-bb3a-4643-8b3c-8965a961800c",
   "metadata": {},
   "outputs": [
    {
     "data": {
      "image/png": "[encoded data removed]",
      "text/plain": [
       "<Figure size 720x360 with 1 Axes>"
      ]
     },
     "metadata": {
      "needs_background": "light"
     },
     "output_type": "display_data"
    }
   ],
   "source": [
    "plt.figure(figsize=(10,5))\n",
    "plt.plot(n_clusters, distortions_mes)\n",
    "plt.xlabel('Número de clusters')\n",
    "plt.ylabel('Soma dos quadrados intra-clusters')\n",
    "plt.grid()"
   ]
  },
  {
   "cell_type": "code",
   "execution_count": 29,
   "id": "4e75c867-492a-4a5c-9677-4c98576a64d1",
   "metadata": {},
   "outputs": [
    {
     "name": "stdout",
     "output_type": "stream",
     "text": [
      "0.06533985597734017 3.8199356991960483 3656.863732643717\n"
     ]
    }
   ],
   "source": [
    "s_mes, dbs_mes, calinski_mes = clustering_agorithm(3, X_mes ,peso_mes, SEED)\n",
    "print(s_mes, dbs_mes, calinski_mes)"
   ]
  },
  {
   "cell_type": "code",
   "execution_count": 30,
   "id": "6a00b20f-2bb7-4d32-b75b-148d12e7af7c",
   "metadata": {},
   "outputs": [
    {
     "name": "stdout",
     "output_type": "stream",
     "text": [
      "0.04537384996306885 3.7252251350068093 3252.4505887237265\n"
     ]
    }
   ],
   "source": [
    "s_mes, dbs_mes, calinski_mes = clustering_agorithm(4, X_mes ,peso_mes, SEED)\n",
    "print(s_mes, dbs_mes, calinski_mes)"
   ]
  },
  {
   "cell_type": "code",
   "execution_count": 31,
   "id": "5f2e120b-c051-4564-83e2-6146435f6eb8",
   "metadata": {},
   "outputs": [
    {
     "name": "stdout",
     "output_type": "stream",
     "text": [
      "0.04452403998469618 3.9535640234014595 2835.0964942206156\n"
     ]
    }
   ],
   "source": [
    "s_mes, dbs_mes, calinski_mes = clustering_agorithm(5, X_mes ,peso_mes, SEED)\n",
    "print(s_mes, dbs_mes, calinski_mes)"
   ]
  },
  {
   "cell_type": "markdown",
   "id": "69cf3dac-bf50-4bbb-add9-f9e67ed74c6f",
   "metadata": {
    "jp-MarkdownHeadingCollapsed": true,
    "tags": []
   },
   "source": [
    "### Elbow Method Carga dataset"
   ]
  },
  {
   "cell_type": "code",
   "execution_count": 32,
   "id": "ac1c307e-f7ef-4fd2-907a-3c4bb887ec3c",
   "metadata": {},
   "outputs": [
    {
     "data": {
      "text/plain": [
       "Transporte Rodoviario de Carga                   65841\n",
       "Transporte Rodoviario Coletivo de Passageiros    18850\n",
       "Transporte Metroferroviario de Passageiros        4957\n",
       "Transporte Ferroviario de Carga                   1160\n",
       "Transporte Rodoviario de Taxi                      363\n",
       "Transporte Dutoviario                              258\n",
       "Transporte Escolar                                 245\n",
       "Trens Turisticos, Telefericos e Similares           10\n",
       "Name: cnae_descricao, dtype: int64"
      ]
     },
     "execution_count": 32,
     "metadata": {},
     "output_type": "execute_result"
    }
   ],
   "source": [
    "df.cnae_descricao.value_counts()"
   ]
  },
  {
   "cell_type": "code",
   "execution_count": 33,
   "id": "0aade3c4-75b3-44d3-9fb5-5c8300eb1006",
   "metadata": {},
   "outputs": [
    {
     "data": {
      "text/plain": [
       "(54047, 14)"
      ]
     },
     "execution_count": 33,
     "metadata": {},
     "output_type": "execute_result"
    }
   ],
   "source": [
    "df_carga = df[df.cnae_descricao.isin(['Transporte Rodoviario de Carga', 'Transporte Ferroviario de Carga', 'Transporte Dutoviario'])]\n",
    "df_carga = df_carga.drop(columns=['cnae_descricao'])\n",
    "df_carga = pd.DataFrame(df_carga.value_counts().reset_index())\n",
    "df_carga.shape"
   ]
  },
  {
   "cell_type": "code",
   "execution_count": 34,
   "id": "6be9838d-97f3-4cf0-b33c-0dd87df90f42",
   "metadata": {},
   "outputs": [],
   "source": [
    "df_carga.columns = ['agente_causador', 'emitente','especie_beneficio','filiacao_segurado',\n",
    "                    'indica_obito','natureza_lesao','parte_corpo_atingida','sexo',\n",
    "                    'tp_acidente','uf_empregador','idade','cid_grupo','cbo_subgrupo_principal', 'n_amostras']"
   ]
  },
  {
   "cell_type": "code",
   "execution_count": 35,
   "id": "ca84dfae-0956-44db-847f-4581379fe4f4",
   "metadata": {},
   "outputs": [
    {
     "data": {
      "text/plain": [
       "(54047, 582)"
      ]
     },
     "execution_count": 35,
     "metadata": {},
     "output_type": "execute_result"
    }
   ],
   "source": [
    "peso_carga = df_carga.n_amostras\n",
    "df_d_carga = pd.get_dummies(df_carga.drop(columns=['n_amostras']))\n",
    "df_d_carga.shape"
   ]
  },
  {
   "cell_type": "code",
   "execution_count": 36,
   "id": "f2bbe289-5866-4b09-bce0-5181e17ef342",
   "metadata": {},
   "outputs": [],
   "source": [
    "X_carga = df_d_carga.div(df_d_carga.sum(axis=1), axis='rows')"
   ]
  },
  {
   "cell_type": "code",
   "execution_count": 37,
   "id": "ae428faa-3511-4e51-a3f1-fa29fadaaab5",
   "metadata": {},
   "outputs": [
    {
     "name": "stdout",
     "output_type": "stream",
     "text": [
      "2\n",
      "3\n",
      "4\n",
      "5\n",
      "6\n",
      "7\n",
      "8\n",
      "9\n",
      "10\n",
      "11\n",
      "12\n",
      "13\n",
      "14\n"
     ]
    }
   ],
   "source": [
    "distortions_carga = []\n",
    "for n_clus in n_clusters:\n",
    "    print(n_clus)\n",
    "    distortions_carga.append(KMeans(n_clusters=n_clus, max_iter=10_000, n_init=100, random_state=SEED).fit(X_carga, sample_weight=peso_carga).inertia_)"
   ]
  },
  {
   "cell_type": "code",
   "execution_count": 38,
   "id": "2464d7a5-db44-41a4-a836-118ce85fd483",
   "metadata": {},
   "outputs": [
    {
     "data": {
      "image/png": "[encoded data removed]",
      "text/plain": [
       "<Figure size 720x360 with 1 Axes>"
      ]
     },
     "metadata": {
      "needs_background": "light"
     },
     "output_type": "display_data"
    }
   ],
   "source": [
    "plt.figure(figsize=(10,5))\n",
    "plt.plot(n_clusters, distortions)\n",
    "plt.xlabel('Número de clusters')\n",
    "plt.ylabel('Soma dos quadrados intra-clusters')\n",
    "plt.grid()"
   ]
  },
  {
   "cell_type": "code",
   "execution_count": 39,
   "id": "2113bb06-e8b1-425f-acc3-e72d222d96cf",
   "metadata": {},
   "outputs": [
    {
     "name": "stdout",
     "output_type": "stream",
     "text": [
      "0.05796826450079363 3.322533214743378 1860.2453680580536\n"
     ]
    }
   ],
   "source": [
    "s_carga, dbs_carga, calinski_carga = clustering_agorithm(7, X_carga ,peso_carga, SEED)\n",
    "print(s_carga, dbs_carga, calinski_carga)"
   ]
  },
  {
   "cell_type": "code",
   "execution_count": 40,
   "id": "8ef76e64-213b-4461-9732-45b9a9f2dc7b",
   "metadata": {},
   "outputs": [
    {
     "name": "stdout",
     "output_type": "stream",
     "text": [
      "0.04915697547712439 3.514531051927049 2822.4613889593306\n"
     ]
    }
   ],
   "source": [
    "s_carga, dbs_carga, calinski_carga = clustering_agorithm(3, X_carga ,peso_carga, SEED)\n",
    "print(s_carga, dbs_carga, calinski_carga)"
   ]
  },
  {
   "cell_type": "markdown",
   "id": "d362990f-94b8-4225-9278-13633cd0fac2",
   "metadata": {
    "jp-MarkdownHeadingCollapsed": true,
    "tags": []
   },
   "source": [
    "### Elbow Method Passageiros"
   ]
  },
  {
   "cell_type": "code",
   "execution_count": 41,
   "id": "28983b44-706f-401e-aced-41edd544a589",
   "metadata": {},
   "outputs": [
    {
     "data": {
      "text/plain": [
       "(19771, 14)"
      ]
     },
     "execution_count": 41,
     "metadata": {},
     "output_type": "execute_result"
    }
   ],
   "source": [
    "df_passageiros = df[~df.cnae_descricao.isin(['Transporte Rodoviario de Carga', 'Transporte Ferroviario de Carga', 'Transporte Dutoviario'])]\n",
    "df_passageiros = df_passageiros.drop(columns=['cnae_descricao'])\n",
    "df_passageiros = pd.DataFrame(df_passageiros.value_counts().reset_index())\n",
    "df_passageiros.shape"
   ]
  },
  {
   "cell_type": "code",
   "execution_count": 42,
   "id": "48ffb738-43b4-43fe-805e-9221d522ba8a",
   "metadata": {},
   "outputs": [],
   "source": [
    "df_passageiros.columns = ['agente_causador', 'emitente','especie_beneficio','filiacao_segurado',\n",
    "                    'indica_obito','natureza_lesao','parte_corpo_atingida','sexo',\n",
    "                    'tp_acidente','uf_empregador','idade','cid_grupo','cbo_subgrupo_principal', 'n_amostras']"
   ]
  },
  {
   "cell_type": "code",
   "execution_count": 43,
   "id": "e4505fe8-1ed3-40b0-93df-109aad16759e",
   "metadata": {},
   "outputs": [
    {
     "data": {
      "text/plain": [
       "(19771, 516)"
      ]
     },
     "execution_count": 43,
     "metadata": {},
     "output_type": "execute_result"
    }
   ],
   "source": [
    "peso_passageiros = df_passageiros.n_amostras\n",
    "df_d_passageiros = pd.get_dummies(df_passageiros.drop(columns=['n_amostras']))\n",
    "df_d_passageiros.shape"
   ]
  },
  {
   "cell_type": "code",
   "execution_count": 44,
   "id": "cfeb2416-ffda-4be5-a7a2-78e40c28e45b",
   "metadata": {},
   "outputs": [
    {
     "name": "stdout",
     "output_type": "stream",
     "text": [
      "2\n",
      "3\n",
      "4\n",
      "5\n",
      "6\n",
      "7\n",
      "8\n",
      "9\n",
      "10\n",
      "11\n",
      "12\n",
      "13\n",
      "14\n"
     ]
    }
   ],
   "source": [
    "X_passageiros = df_d_passageiros.div(df_d_passageiros.sum(axis=1), axis='rows')\n",
    "distortions_passageiros = []\n",
    "for n_clus in n_clusters:\n",
    "    print(n_clus)\n",
    "    distortions_passageiros.append(\n",
    "        KMeans(n_clusters=n_clus, max_iter=10_000, n_init=100, random_state=SEED).fit(X_passageiros, sample_weight=peso_passageiros).inertia_)"
   ]
  },
  {
   "cell_type": "code",
   "execution_count": 45,
   "id": "a60ca2cb-efd7-4991-bcf5-ced0acb8e43a",
   "metadata": {},
   "outputs": [
    {
     "data": {
      "image/png": "[encoded data removed]",
      "text/plain": [
       "<Figure size 720x360 with 1 Axes>"
      ]
     },
     "metadata": {
      "needs_background": "light"
     },
     "output_type": "display_data"
    }
   ],
   "source": [
    "plt.figure(figsize=(10,5))\n",
    "plt.plot(n_clusters, distortions_passageiros)\n",
    "plt.xlabel('Número de clusters')\n",
    "plt.ylabel('Soma dos quadrados intra-clusters')\n",
    "plt.grid()"
   ]
  },
  {
   "cell_type": "code",
   "execution_count": 46,
   "id": "b5dfa9bd-1880-448a-8298-bf727ec14c94",
   "metadata": {},
   "outputs": [
    {
     "name": "stdout",
     "output_type": "stream",
     "text": [
      "0.05866259408591549 3.404019322012086 605.6813992753987\n"
     ]
    }
   ],
   "source": [
    "s_passageiros, dbs_passageiros, calinski_passageiros = clustering_agorithm(9, X_passageiros ,peso_passageiros, SEED)\n",
    "print(s_passageiros, dbs_passageiros, calinski_passageiros)"
   ]
  },
  {
   "cell_type": "code",
   "execution_count": 47,
   "id": "1c5257fc-a2ef-401d-be50-0e59268e8075",
   "metadata": {},
   "outputs": [
    {
     "name": "stdout",
     "output_type": "stream",
     "text": [
      "0.051581539475034494 3.410040908045236 1139.6740092879427\n"
     ]
    }
   ],
   "source": [
    "s_passageiros, dbs_passageiros, calinski_passageiros = clustering_agorithm(3, X_passageiros ,peso_passageiros, SEED)\n",
    "print(s_passageiros, dbs_passageiros, calinski_passageiros)"
   ]
  },
  {
   "cell_type": "code",
   "execution_count": 48,
   "id": "2b3c551b-a57a-4ee7-bca2-3120e9b9d78f",
   "metadata": {},
   "outputs": [
    {
     "name": "stdout",
     "output_type": "stream",
     "text": [
      "0.059262935020063044 3.430025002891627 758.9262090704811\n"
     ]
    }
   ],
   "source": [
    "s_passageiros, dbs_passageiros, calinski_passageiros = clustering_agorithm(6, X_passageiros ,peso_passageiros, SEED)\n",
    "print(s_passageiros, dbs_passageiros, calinski_passageiros)"
   ]
  },
  {
   "cell_type": "markdown",
   "id": "1b456e69-04f0-490f-b6f2-c4a5880eb2c6",
   "metadata": {},
   "source": [
    "### Normalize Dataset"
   ]
  },
  {
   "cell_type": "code",
   "execution_count": 8,
   "id": "a3ccd4b3-eb62-4a85-af28-ef3ae2e2b8a9",
   "metadata": {},
   "outputs": [
    {
     "data": {
      "text/plain": [
       "(73977, 15)"
      ]
     },
     "execution_count": 8,
     "metadata": {},
     "output_type": "execute_result"
    }
   ],
   "source": [
    "df_n = pd.DataFrame(df.value_counts().reset_index())\n",
    "df_n.shape"
   ]
  },
  {
   "cell_type": "code",
   "execution_count": 10,
   "id": "50864493-423d-47e4-bc5b-156ab0ce6707",
   "metadata": {},
   "outputs": [],
   "source": [
    "df_n.columns = ['agente_causador','cnae_descricao','emitente','especie_beneficio',\n",
    "              'filiacao_segurado','indica_obito','natureza_lesao','parte_corpo_atingida','sexo',\n",
    "                   'tp_acidente','uf_empregador','idade','cid_grupo',\n",
    "               'cbo_subgrupo_principal', 'n_amostras']"
   ]
  },
  {
   "cell_type": "code",
   "execution_count": 12,
   "id": "7432a735-aa1b-4526-aa07-8dbe9d61e3f3",
   "metadata": {},
   "outputs": [
    {
     "data": {
      "text/plain": [
       "(73977, 605)"
      ]
     },
     "execution_count": 12,
     "metadata": {},
     "output_type": "execute_result"
    }
   ],
   "source": [
    "peso_n = df_n.n_amostras\n",
    "df_n_d = pd.get_dummies(df_n.drop(columns=['n_amostras']))\n",
    "df_n_d.shape"
   ]
  },
  {
   "cell_type": "code",
   "execution_count": 23,
   "id": "999f209f-d91d-46c1-9f84-7b3600da3fd9",
   "metadata": {},
   "outputs": [],
   "source": [
    "X_n = Normalizer().fit_transform(df_n_d.values)"
   ]
  },
  {
   "cell_type": "code",
   "execution_count": 25,
   "id": "9d2ee422-6bff-4f86-8b0a-7f390b255ebf",
   "metadata": {},
   "outputs": [
    {
     "name": "stdout",
     "output_type": "stream",
     "text": [
      "2\n",
      "3\n",
      "4\n",
      "5\n",
      "6\n",
      "7\n",
      "8\n",
      "9\n",
      "10\n",
      "11\n",
      "12\n",
      "13\n",
      "14\n"
     ]
    }
   ],
   "source": [
    "distortions_n = []\n",
    "for n_clus in n_clusters:\n",
    "    print(n_clus)\n",
    "    distortions_n.append(KMeans(n_clusters=n_clus, max_iter=10_000, n_init=100, random_state=SEED).fit(X_n, sample_weight=peso_n).inertia_)"
   ]
  },
  {
   "cell_type": "code",
   "execution_count": 26,
   "id": "71378299-b30f-4e3d-99c2-938a239c0526",
   "metadata": {},
   "outputs": [
    {
     "data": {
      "image/png": "[encoded data removed]",
      "text/plain": [
       "<Figure size 720x360 with 1 Axes>"
      ]
     },
     "metadata": {
      "needs_background": "light"
     },
     "output_type": "display_data"
    }
   ],
   "source": [
    "plt.figure(figsize=(10,5))\n",
    "plt.plot(n_clusters, distortions_n)\n",
    "plt.xlabel('Número de clusters')\n",
    "plt.ylabel('Soma dos quadrados intra-clusters')\n",
    "plt.grid()"
   ]
  },
  {
   "cell_type": "code",
   "execution_count": 28,
   "id": "3f274348-f4f5-4f56-892e-37ae077cddc0",
   "metadata": {},
   "outputs": [
    {
     "name": "stdout",
     "output_type": "stream",
     "text": [
      "0.07181425553461772 3.6082661982838453 3848.7964638476533\n"
     ]
    }
   ],
   "source": [
    "s_n, dbs_n, calinski_n = clustering_agorithm(3, X_n ,peso_n,SEED)\n",
    "print(s_n, dbs_n, calinski_n)"
   ]
  },
  {
   "cell_type": "code",
   "execution_count": 29,
   "id": "80846f5c-1fe3-4b2e-b3cf-b3ed692372b9",
   "metadata": {},
   "outputs": [
    {
     "name": "stdout",
     "output_type": "stream",
     "text": [
      "0.050607338571628475 3.5110822504354484 3365.33540070428\n"
     ]
    }
   ],
   "source": [
    "s_n, dbs_n, calinski_n = clustering_agorithm(4, X_n ,peso_n,SEED)\n",
    "print(s_n, dbs_n, calinski_n)"
   ]
  },
  {
   "cell_type": "code",
   "execution_count": 30,
   "id": "2345c4d5-aab2-467c-a1d7-abc4a163546d",
   "metadata": {},
   "outputs": [
    {
     "name": "stdout",
     "output_type": "stream",
     "text": [
      "0.05397930176726943 3.444538929480802 1870.2198261007854\n"
     ]
    }
   ],
   "source": [
    "s_n, dbs_n, calinski_n = clustering_agorithm(11, X_n ,peso_n,SEED)\n",
    "print(s_n, dbs_n, calinski_n)"
   ]
  }
 ],
 "metadata": {
  "kernelspec": {
   "display_name": "Python 3 (ipykernel)",
   "language": "python",
   "name": "python3"
  },
  "language_info": {
   "codemirror_mode": {
    "name": "ipython",
    "version": 3
   },
   "file_extension": ".py",
   "mimetype": "text/x-python",
   "name": "python",
   "nbconvert_exporter": "python",
   "pygments_lexer": "ipython3",
   "version": "3.9.7"
  }
 },
 "nbformat": 4,
 "nbformat_minor": 5
}
